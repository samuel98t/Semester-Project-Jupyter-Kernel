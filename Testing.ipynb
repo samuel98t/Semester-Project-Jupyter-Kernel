{
 "cells": [
  {
   "cell_type": "code",
   "execution_count": 1,
   "id": "f92927c3-f4bc-4b26-bb9d-05a0e8c727d4",
   "metadata": {},
   "outputs": [
    {
     "name": "stdout",
     "output_type": "stream",
     "text": [
      "Hello from python!\n",
      "math,  4\n"
     ]
    }
   ],
   "source": [
    "%python\n",
    "print(\"Hello from python!\")\n",
    "x= 5\n",
    "print(\"math, \",9-x)"
   ]
  },
  {
   "cell_type": "code",
   "execution_count": 1,
   "id": "be2d09e9-91eb-4e05-956f-30e69e3049c8",
   "metadata": {},
   "outputs": [
    {
     "name": "stdout",
     "output_type": "stream",
     "text": [
      "Hello from Julia\n"
     ]
    }
   ],
   "source": [
    "%julia\n",
    "println(\"Hello from Julia\")"
   ]
  },
  {
   "cell_type": "code",
   "execution_count": 2,
   "id": "f94d54db-16c8-4155-a953-bb3d0e869846",
   "metadata": {
    "scrolled": true
   },
   "outputs": [
    {
     "name": "stdout",
     "output_type": "stream",
     "text": [
      "Hello, Julia User\n",
      "math, 4\n"
     ]
    }
   ],
   "source": [
    "%julia\n",
    "name = \"Julia User\"\n",
    "println(\"Hello, \", name)\n",
    "x = 5\n",
    "println(\"math, \",9-x)"
   ]
  },
  {
   "cell_type": "code",
   "execution_count": 3,
   "id": "85f08588-64ce-414b-a1ba-63a9e85b2864",
   "metadata": {},
   "outputs": [
    {
     "name": "stdin",
     "output_type": "stream",
     "text": [
      "please enter your first name sam\n",
      "please enter your last name w\n"
     ]
    },
    {
     "name": "stdout",
     "output_type": "stream",
     "text": [
      "Hello :  sam   w\n"
     ]
    }
   ],
   "source": [
    "name = input(\"please enter your first name\")\n",
    "last_name = input (\"please enter your last name\")\n",
    "print(\"Hello : \",name,\" \",last_name)"
   ]
  },
  {
   "cell_type": "code",
   "execution_count": 4,
   "id": "6889ef3c-068a-4f4b-9196-836ec8fdde63",
   "metadata": {},
   "outputs": [
    {
     "name": "stdin",
     "output_type": "stream",
     "text": [
      " amir\n"
     ]
    },
    {
     "name": "display_data",
     "output_type": "stream",
     "text": [
      "Dict(\"text/plain\" => \"\\\"amir\\\\n\\\"\")"
     ]
    }
   ],
   "source": [
    "%julia\n",
    "x = readline()"
   ]
  },
  {
   "cell_type": "code",
   "execution_count": 5,
   "id": "6b6bef38-fa0d-4fa8-9e02-3023569cb758",
   "metadata": {},
   "outputs": [
    {
     "name": "stdin",
     "output_type": "stream",
     "text": [
      " jake\n"
     ]
    },
    {
     "name": "stdout",
     "output_type": "stream",
     "text": [
      "jake\n",
      "\n"
     ]
    }
   ],
   "source": [
    "%julia\n",
    "x = readline()\n",
    "println(x)\n"
   ]
  },
  {
   "cell_type": "code",
   "execution_count": 7,
   "id": "0834a722-20f4-4210-abd0-418ee2b2c3d5",
   "metadata": {},
   "outputs": [
    {
     "name": "stdout",
     "output_type": "stream",
     "text": [
      "Enter your name\n"
     ]
    },
    {
     "name": "stdin",
     "output_type": "stream",
     "text": [
      " jake\n"
     ]
    },
    {
     "name": "stdout",
     "output_type": "stream",
     "text": [
      "Your name is :jake\n",
      "\n"
     ]
    }
   ],
   "source": [
    "%julia\n",
    "println(\"Enter your name\")\n",
    "name = readline()\n",
    "println(\"Your name is :\",name)"
   ]
  },
  {
   "cell_type": "code",
   "execution_count": 8,
   "id": "4f9aabd0-dcbd-478c-b0af-7f2472c8b730",
   "metadata": {},
   "outputs": [
    {
     "name": "stdout",
     "output_type": "stream",
     "text": [
      "Testing input taking via readline.\n",
      "Please enter a value: "
     ]
    },
    {
     "name": "stdin",
     "output_type": "stream",
     "text": [
      " 42\n"
     ]
    },
    {
     "name": "stdout",
     "output_type": "stream",
     "text": [
      "You entered: 42\n",
      "\n",
      "\"42\\n\"\n"
     ]
    }
   ],
   "source": [
    "%julia\n",
    "function test_input()\n",
    "    println(\"Testing input taking via readline.\")\n",
    "    print(\"Please enter a value: \")\n",
    "    user_value = readline()\n",
    "    println(\"You entered: \", user_value)\n",
    "    return user_value\n",
    "end\n",
    "test_input()"
   ]
  },
  {
   "cell_type": "code",
   "execution_count": 12,
   "id": "5a1edd74-0b0c-42bc-9485-5b9b2deb8ae4",
   "metadata": {},
   "outputs": [],
   "source": [
    "%julia\n",
    "while true\n",
    "    sleep(0.001)\n",
    "end"
   ]
  },
  {
   "cell_type": "code",
   "execution_count": 10,
   "id": "b646f810-c24d-4742-b9b6-9256e9ad2cec",
   "metadata": {},
   "outputs": [],
   "source": [
    "while True:\n",
    "    x=6"
   ]
  },
  {
   "cell_type": "code",
   "execution_count": 9,
   "id": "cba73a62-2419-436a-bbca-c0d4df9bccd1",
   "metadata": {},
   "outputs": [
    {
     "data": {
      "text/plain": [
       "'Hello, custom display!'"
      ]
     },
     "metadata": {},
     "output_type": "display_data"
    },
    {
     "data": {
      "text/html": [
       "<h1 style='color: blue;'>This color makes my eyes hurt!</h1>"
      ]
     },
     "metadata": {},
     "output_type": "display_data"
    }
   ],
   "source": [
    "display(\"Hello, custom display!\")\n",
    "class HTMLDisplay:\n",
    "    def _repr_html_(self):\n",
    "        return \"<h1 style='color: blue;'>This color makes my eyes hurt!</h1>\"\n",
    "\n",
    "display(HTMLDisplay())"
   ]
  },
  {
   "cell_type": "code",
   "execution_count": 10,
   "id": "be39c727-ca17-4ce0-9875-4df1d3cdd8bb",
   "metadata": {},
   "outputs": [
    {
     "data": {
      "image/png": "[encoded data removed]"
     },
     "metadata": {},
     "output_type": "display_data"
    }
   ],
   "source": [
    "import base64\n",
    "class DummyPNG:\n",
    "    def _repr_png_(self):\n",
    "        # A base64-encoded 1x1 yllw pixel PNG\n",
    "        png_base64 = \"iVBORw0KGgoAAAANSUhEUgAAAAEAAAABCAYAAAAfFcSJAAAADUlEQVR42mP8/5/hPwAIAgL/4d1j8wAAAABJRU5ErkJggg==\"\n",
    "        return base64.b64decode(png_base64)\n",
    "\n",
    "display(DummyPNG())"
   ]
  },
  {
   "cell_type": "code",
   "execution_count": 11,
   "id": "f2d14267-e5a6-4e9f-92f2-e075c7e9a785",
   "metadata": {},
   "outputs": [
    {
     "data": {
      "text/html": [
       "<img src=\"https://i.postimg.cc/sxQPjZ8f/e826dfea-45f4-41c7-8a76-297a5c2f8cfd-MConverter-eu.png\" alt=\"Image from URL\" style=\"max-width:100%;\">"
      ]
     },
     "metadata": {},
     "output_type": "display_data"
    }
   ],
   "source": [
    "class LinkImage:\n",
    "    def __init__(self, url):\n",
    "        self.url = url\n",
    "    def _repr_html_(self):\n",
    "        return f'<img src=\"{self.url}\" alt=\"Image from URL\" style=\"max-width:100%;\">'\n",
    "# picture of my cat\n",
    "display(LinkImage(\"https://i.postimg.cc/sxQPjZ8f/e826dfea-45f4-41c7-8a76-297a5c2f8cfd-MConverter-eu.png\"))"
   ]
  },
  {
   "cell_type": "code",
   "execution_count": 12,
   "id": "a10ad47c-3734-4e7e-ba65-f6c46396fc68",
   "metadata": {},
   "outputs": [],
   "source": [
    "import matplotlib.pyplot as plt\n",
    "plt.plot([1,2,3,4])\n",
    "plt.show()  \n"
   ]
  },
  {
   "cell_type": "code",
   "execution_count": 3,
   "id": "0102ed7c-ee59-471b-97b1-b77fc158783b",
   "metadata": {},
   "outputs": [
    {
     "name": "stderr",
     "output_type": "stream",
     "text": [
      "    Updating registry at `C:\\Users\\Sam\\.julia\\registries\\General.toml`\n",
      "   Resolving package versions...\n",
      "   Installed LoggingExtras ââââââââââââââââ v1.1.0\n",
      "   Installed libdecor_jll âââââââââââââââââ v0.2.2+0\n",
      "   Installed GR_jll âââââââââââââââââââââââ v0.73.13+0\n",
      "   Installed Libmount_jll âââââââââââââââââ v2.40.3+0\n",
      "   Installed x265_jll âââââââââââââââââââââ v3.5.0+0\n",
      "   Installed libfdk_aac_jll âââââââââââââââ v2.0.3+0\n",
      "   Installed JpegTurbo_jll ââââââââââââââââ v3.1.1+0\n",
      "   Installed LERC_jll âââââââââââââââââââââ v4.0.1+0\n",
      "   Installed Opus_jll âââââââââââââââââââââ v1.3.3+0\n",
      "   Installed RelocatableFolders âââââââââââ v1.0.1\n",
      "   Installed ColorSchemes âââââââââââââââââ v3.29.0\n",
      "   Installed ConcurrentUtilities ââââââââââ v2.5.0\n",
      "   Installed Unitful ââââââââââââââââââââââ v1.22.0\n",
      "   Installed Contour ââââââââââââââââââââââ v0.6.3\n",
      "   Installed Xorg_xkbcomp_jll âââââââââââââ v1.4.6+1\n",
      "   Installed Measures âââââââââââââââââââââ v0.3.2\n",
      "   Installed Xorg_xcb_util_wm_jll âââââââââ v0.4.1+1\n",
      "   Installed Grisu ââââââââââââââââââââââââ v1.0.2\n",
      "   Installed Xorg_xcb_util_image_jll ââââââ v0.4.0+1\n",
      "   Installed RecipesPipeline ââââââââââââââ v0.6.12\n",
      "   Installed PlotUtils ââââââââââââââââââââ v1.4.3\n",
      "   Installed Xorg_libpthread_stubs_jll ââââ v0.1.2+0\n",
      "   Installed OpenSSL ââââââââââââââââââââââ v1.4.3\n",
      "   Installed GR âââââââââââââââââââââââââââ v0.73.13\n",
      "   Installed DelimitedFiles âââââââââââââââ v1.9.1\n",
      "   Installed Xorg_libSM_jll âââââââââââââââ v1.2.4+0\n",
      "   Installed Cairo_jll ââââââââââââââââââââ v1.18.2+1\n",
      "   Installed HTTP âââââââââââââââââââââââââ v1.10.15\n",
      "   Installed Xorg_xcb_util_jll ââââââââââââ v0.4.0+1\n",
      "   Installed Fontconfig_jll âââââââââââââââ v2.15.0+0\n",
      "   Installed Statistics âââââââââââââââââââ v1.11.1\n",
      "   Installed Libgpg_error_jll âââââââââââââ v1.51.1+0\n",
      "   Installed Xorg_libxkbfile_jll ââââââââââ v1.1.2+1\n",
      "   Installed Xorg_libXau_jll ââââââââââââââ v1.0.12+0\n",
      "   Installed EpollShim_jll ââââââââââââââââ v0.0.20230411+1\n",
      "   Installed Xorg_libXinerama_jll âââââââââ v1.1.5+0\n",
      "   Installed FFMPEG âââââââââââââââââââââââ v0.4.2\n",
      "   Installed Missings âââââââââââââââââââââ v1.2.0\n",
      "   Installed Showoff ââââââââââââââââââââââ v1.0.3\n",
      "   Installed IrrationalConstants ââââââââââ v0.2.4\n",
      "   Installed JSON âââââââââââââââââââââââââ v0.21.4\n",
      "   Installed Pango_jll ââââââââââââââââââââ v1.56.1+0\n",
      "   Installed Xorg_xcb_util_keysyms_jll ââââ v0.4.0+1\n",
      "   Installed PtrArrays ââââââââââââââââââââ v1.3.0\n",
      "   Installed Bzip2_jll ââââââââââââââââââââ v1.0.9+0\n",
      "   Installed xkbcommon_jll ââââââââââââââââ v1.4.1+2\n",
      "   Installed Pipe âââââââââââââââââââââââââ v1.3.0\n",
      "   Installed SimpleBufferStream âââââââââââ v1.2.0\n",
      "   Installed XZ_jll âââââââââââââââââââââââ v5.6.4+1\n",
      "   Installed HarfBuzz_jll âââââââââââââââââ v8.5.0+0\n",
      "   Installed NaNMath ââââââââââââââââââââââ v1.1.2\n",
      "   Installed LZO_jll ââââââââââââââââââââââ v2.10.3+0\n",
      "   Installed PlotThemes âââââââââââââââââââ v3.3.0\n",
      "   Installed fzf_jll ââââââââââââââââââââââ v0.56.3+0\n",
      "   Installed FriBidi_jll ââââââââââââââââââ v1.0.16+0\n",
      "   Installed TranscodingStreams âââââââââââ v0.11.3\n",
      "   Installed UnicodeFun âââââââââââââââââââ v0.4.1\n",
      "   Installed GLFW_jll âââââââââââââââââââââ v3.4.0+2\n",
      "   Installed x264_jll âââââââââââââââââââââ v2021.5.5+0\n",
      "   Installed FreeType2_jll ââââââââââââââââ v2.13.3+1\n",
      "   Installed MbedTLS ââââââââââââââââââââââ v1.1.9\n",
      "   Installed DataStructures âââââââââââââââ v0.18.20\n",
      "   Installed JLFzf ââââââââââââââââââââââââ v0.1.9\n",
      "   Installed Colors âââââââââââââââââââââââ v0.13.0\n",
      "   Installed StatsAPI âââââââââââââââââââââ v1.7.0\n",
      "   Installed Compat âââââââââââââââââââââââ v4.16.0\n",
      "   Installed CodecZlib ââââââââââââââââââââ v0.7.8\n",
      "   Installed StatsBase ââââââââââââââââââââ v0.34.4\n",
      "   Installed Xorg_libxcb_jll ââââââââââââââ v1.17.0+3\n",
      "   Installed libpng_jll âââââââââââââââââââ v1.6.46+0\n",
      "   Installed mtdev_jll ââââââââââââââââââââ v1.1.6+0\n",
      "   Installed ExceptionUnwrapping ââââââââââ v0.1.11\n",
      "   Installed libaom_jll âââââââââââââââââââ v3.11.0+0\n",
      "   Installed ColorTypes âââââââââââââââââââ v0.12.0\n",
      "   Installed gperf_jll ââââââââââââââââââââ v3.1.1+1\n",
      "   Installed Dbus_jll âââââââââââââââââââââ v1.14.10+0\n",
      "   Installed Xorg_libXext_jll âââââââââââââ v1.3.6+3\n",
      "   Installed eudev_jll ââââââââââââââââââââ v3.2.9+0\n",
      "   Installed TensorCore âââââââââââââââââââ v0.1.1\n",
      "   Installed Zstd_jll âââââââââââââââââââââ v1.5.7+1\n",
      "   Installed Xorg_xcb_util_cursor_jll âââââ v0.1.4+0\n",
      "   Installed Plots ââââââââââââââââââââââââ v1.40.9\n",
      "   Installed Expat_jll ââââââââââââââââââââ v2.6.5+0\n",
      "   Installed Libtiff_jll ââââââââââââââââââ v4.7.1+0\n",
      "   Installed ColorVectorSpace âââââââââââââ v0.11.0\n",
      "   Installed Format âââââââââââââââââââââââ v1.3.7\n",
      "   Installed Libffi_jll âââââââââââââââââââ v3.2.2+2\n",
      "   Installed Xorg_libXrender_jll ââââââââââ v0.9.11+1\n",
      "   Installed libevdev_jll âââââââââââââââââ v1.11.0+0\n",
      "   Installed libinput_jll âââââââââââââââââ v1.18.0+0\n",
      "   Installed Ogg_jll ââââââââââââââââââââââ v1.3.5+1\n",
      "   Installed XSLT_jll âââââââââââââââââââââ v1.1.42+0\n",
      "   Installed Xorg_libXi_jll âââââââââââââââ v1.8.2+0\n",
      "   Installed Vulkan_Loader_jll ââââââââââââ v1.3.243+0\n",
      "   Installed Qt6ShaderTools_jll âââââââââââ v6.7.1+1\n",
      "   Installed Reexport âââââââââââââââââââââ v1.2.2\n",
      "   Installed Qt6Declarative_jll âââââââââââ v6.7.1+2\n",
      "   Installed LogExpFunctions ââââââââââââââ v0.3.29\n",
      "   Installed AliasTables ââââââââââââââââââ v1.1.3\n",
      "   Installed Wayland_protocols_jll ââââââââ v1.36.0+0\n",
      "   Installed Xorg_libXcursor_jll ââââââââââ v1.2.3+0\n",
      "   Installed Libuuid_jll ââââââââââââââââââ v2.40.3+0\n",
      "   Installed DocStringExtensions ââââââââââ v0.9.3\n",
      "   Installed Xorg_xcb_util_renderutil_jll â v0.3.9+1\n",
      "   Installed Graphite2_jll ââââââââââââââââ v1.3.14+1\n",
      "   Installed Xorg_libICE_jll ââââââââââââââ v1.1.1+0\n",
      "   Installed StableRNGs âââââââââââââââââââ v1.0.2\n",
      "   Installed libass_jll âââââââââââââââââââ v0.15.2+0\n",
      "   Installed XML2_jll âââââââââââââââââââââ v2.13.6+1\n",
      "   Installed Pixman_jll âââââââââââââââââââ v0.43.4+0\n",
      "   Installed Gettext_jll ââââââââââââââââââ v0.21.0+0\n",
      "   Installed Wayland_jll ââââââââââââââââââ v1.21.0+2\n",
      "   Installed Xorg_xtrans_jll ââââââââââââââ v1.5.1+0\n",
      "   Installed OpenSSL_jll ââââââââââââââââââ v3.0.16+0\n",
      "   Installed Latexify âââââââââââââââââââââ v0.16.6\n",
      "   Installed BitFlags âââââââââââââââââââââ v0.1.9\n",
      "   Installed Libgcrypt_jll ââââââââââââââââ v1.11.0+0\n",
      "   Installed FFMPEG_jll âââââââââââââââââââ v4.4.4+1\n",
      "   Installed Xorg_xkeyboard_config_jll ââââ v2.39.0+0\n",
      "   Installed Xorg_libXrandr_jll âââââââââââ v1.5.4+0\n",
      "   Installed LLVMOpenMP_jll âââââââââââââââ v18.1.7+0\n",
      "   Installed FixedPointNumbers ââââââââââââ v0.8.5\n",
      "   Installed RecipesBase ââââââââââââââââââ v1.3.4\n",
      "   Installed Xorg_libXfixes_jll âââââââââââ v6.0.0+0\n",
      "   Installed LAME_jll âââââââââââââââââââââ v3.100.2+0\n",
      "   Installed Libiconv_jll âââââââââââââââââ v1.18.0+0\n",
      "   Installed Qt6Base_jll ââââââââââââââââââ v6.7.1+1\n",
      "   Installed Qt6Wayland_jll âââââââââââââââ v6.7.1+1\n",
      "   Installed LaTeXStrings âââââââââââââââââ v1.4.0\n",
      "   Installed Glib_jll âââââââââââââââââââââ v2.82.4+0\n",
      "   Installed URIs âââââââââââââââââââââââââ v1.5.1\n",
      "   Installed libvorbis_jll ââââââââââââââââ v1.3.7+2\n",
      "   Installed Libglvnd_jll âââââââââââââââââ v1.7.0+0\n",
      "   Installed Xorg_libXdmcp_jll ââââââââââââ v1.1.5+0\n",
      "   Installed Xorg_libX11_jll ââââââââââââââ v1.8.6+3\n",
      "   Installed Unzip ââââââââââââââââââââââââ v0.2.0\n",
      "   Installed UnitfulLatexify ââââââââââââââ v1.6.4\n",
      "   Installed SortingAlgorithms ââââââââââââ v1.2.1\n",
      "    Updating `C:\\Users\\Sam\\Documents\\College\\SemesterProject\\ProjectRepo\\Semester-Project-Jupyter-Kernel\\.venv\\julia_env\\Project.toml`\n",
      "  [91a5bcdd] + Plots v1.40.9\n",
      "    Updating `C:\\Users\\Sam\\Documents\\College\\SemesterProject\\ProjectRepo\\Semester-Project-Jupyter-Kernel\\.venv\\julia_env\\Manifest.toml`\n",
      "  [66dad0bd] + AliasTables v1.1.3\n",
      "  [d1d4a3ce] + BitFlags v0.1.9\n",
      "  [944b1d66] + CodecZlib v0.7.8\n",
      "  [35d6a980] + ColorSchemes v3.29.0\n",
      "  [3da002f7] + ColorTypes v0.12.0\n",
      "  [c3611d14] + ColorVectorSpace v0.11.0\n",
      "  [5ae59095] + Colors v0.13.0\n",
      "  [34da2185] + Compat v4.16.0\n",
      "  [f0e56b4a] + ConcurrentUtilities v2.5.0\n",
      "  [d38c429a] + Contour v0.6.3\n",
      "  [864edb3b] + DataStructures v0.18.20\n",
      "  [8bb1440f] + DelimitedFiles v1.9.1\n",
      "  [ffbed154] + DocStringExtensions v0.9.3\n",
      "  [460bff9d] + ExceptionUnwrapping v0.1.11\n",
      "  [c87230d0] + FFMPEG v0.4.2\n",
      "  [53c48c17] + FixedPointNumbers v0.8.5\n",
      "  [1fa38f19] + Format v1.3.7\n",
      "  [28b8d3ca] + GR v0.73.13\n",
      "  [42e2da0e] + Grisu v1.0.2\n",
      "  [cd3eb016] + HTTP v1.10.15\n",
      "  [92d709cd] + IrrationalConstants v0.2.4\n",
      "  [1019f520] + JLFzf v0.1.9\n",
      "  [682c06a0] + JSON v0.21.4\n",
      "  [b964fa9f] + LaTeXStrings v1.4.0\n",
      "  [23fbe1c1] + Latexify v0.16.6\n",
      "  [2ab3a3ac] + LogExpFunctions v0.3.29\n",
      "  [e6f89c97] + LoggingExtras v1.1.0\n",
      "  [739be429] + MbedTLS v1.1.9\n",
      "  [442fdcdd] + Measures v0.3.2\n",
      "  [e1d29d7a] + Missings v1.2.0\n",
      "  [77ba4419] + NaNMath v1.1.2\n",
      "  [4d8831e6] + OpenSSL v1.4.3\n",
      "  [b98c9c47] + Pipe v1.3.0\n",
      "  [ccf2f8ad] + PlotThemes v3.3.0\n",
      "  [995b91a9] + PlotUtils v1.4.3\n",
      "  [91a5bcdd] + Plots v1.40.9\n",
      "  [43287f4e] + PtrArrays v1.3.0\n",
      "  [3cdcf5f2] + RecipesBase v1.3.4\n",
      "  [01d81517] + RecipesPipeline v0.6.12\n",
      "  [189a3867] + Reexport v1.2.2\n",
      "  [05181044] + RelocatableFolders v1.0.1\n",
      "  [992d4aef] + Showoff v1.0.3\n",
      "  [777ac1f9] + SimpleBufferStream v1.2.0\n",
      "  [a2af1166] + SortingAlgorithms v1.2.1\n",
      "  [860ef19b] + StableRNGs v1.0.2\n",
      "  [10745b16] + Statistics v1.11.1\n",
      "  [82ae8749] + StatsAPI v1.7.0\n",
      "  [2913bbd2] + StatsBase v0.34.4\n",
      "  [62fd8b95] + TensorCore v0.1.1\n",
      "  [3bb67fe8] + TranscodingStreams v0.11.3\n",
      "  [5c2747f8] + URIs v1.5.1\n",
      "  [1cfade01] + UnicodeFun v0.4.1\n",
      "  [1986cc42] + Unitful v1.22.0\n",
      "  [45397f5d] + UnitfulLatexify v1.6.4\n",
      "  [41fe7b60] + Unzip v0.2.0\n",
      "  [6e34b625] + Bzip2_jll v1.0.9+0\n",
      "  [83423d85] + Cairo_jll v1.18.2+1\n",
      "  [ee1fde0b] + Dbus_jll v1.14.10+0\n",
      "  [2702e6a9] + EpollShim_jll v0.0.20230411+1\n",
      "  [2e619515] + Expat_jll v2.6.5+0\n",
      "â",
      " [b22a6f82] + FFMPEG_jll v4.4.4+1\n",
      "  [a3f928ae] + Fontconfig_jll v2.15.0+0\n",
      "  [d7e528f0] + FreeType2_jll v2.13.3+1\n",
      "  [559328eb] + FriBidi_jll v1.0.16+0\n",
      "  [0656b61e] + GLFW_jll v3.4.0+2\n",
      "  [d2c73de3] + GR_jll v0.73.13+0\n",
      "  [78b55507] + Gettext_jll v0.21.0+0\n",
      "  [7746bdde] + Glib_jll v2.82.4+0\n",
      "  [3b182d85] + Graphite2_jll v1.3.14+1\n",
      "  [2e76f6c2] + HarfBuzz_jll v8.5.0+0\n",
      "  [aacddb02] + JpegTurbo_jll v3.1.1+0\n",
      "  [c1c5ebd0] + LAME_jll v3.100.2+0\n",
      "  [88015f11] + LERC_jll v4.0.1+0\n",
      "  [1d63c593] + LLVMOpenMP_jll v18.1.7+0\n",
      "  [dd4b983a] + LZO_jll v2.10.3+0\n",
      "â",
      " [e9f186c6] + Libffi_jll v3.2.2+2\n",
      "  [d4300ac3] + Libgcrypt_jll v1.11.0+0\n",
      "  [7e76a0d4] + Libglvnd_jll v1.7.0+0\n",
      "  [7add5ba3] IOPub message rate exceeded.\n",
      "The Jupyter server will temporarily stop sending output\n",
      "to the client in order to avoid crashing it.\n",
      "To change this limit, set the config variable\n",
      "`--ServerApp.iopub_msg_rate_limit`.\n",
      "\n",
      "Current values:\n",
      "ServerApp.iopub_msg_rate_limit=1000.0 (msgs/sec)\n",
      "ServerApp.rate_limit_window=3.0 (secs)\n",
      "\n",
      "r_jll v0.1.4+0\n",
      "  [12413925] + Xorg_xcb_util_image_jll v0.4.0+1\n",
      "  [2def613f] + Xorg_xcb_util_jll v0.4.0+1\n",
      "  [975044d2] + Xorg_xcb_util_keysyms_jll v0.4.0+1\n",
      "  [0d47668e] + Xorg_xcb_util_renderutil_jll v0.3.9+1\n",
      "  [c22f9ab0] + Xorg_xcb_util_wm_jll v0.4.1+1\n",
      "  [35661453] + Xorg_xkbcomp_jll v1.4.6+1\n",
      "  [33bec58e] + Xorg_xkeyboard_config_jll v2.39.0+0\n",
      "  [c5fb5394] + Xorg_xtrans_jll v1.5.1+0\n",
      "  [3161d3a3] + Zstd_jll v1.5.7+1\n",
      "  [35ca27e7] + eudev_jll v3.2.9+0\n",
      "  [214eeab7] + fzf_jll v0.56.3+0\n",
      "  [1a1c6b14] + gperf_jll v3.1.1+1\n",
      "  [a4ae2306] + libaom_jll v3.11.0+0\n",
      "  [0ac62f75] + libass_jll v0.15.2+0\n",
      "  [1183f4f0] + libdecor_jll v0.2.2+0\n",
      "  [2db6ffa8] + libevdev_jll v1.11.0+0\n",
      "  [f638f0a6] + libfdk_aac_jll v2.0.3+0\n",
      "  [36db933b] + libinput_jll v1.18.0+0\n",
      "  [b53b4c65] + libpng_jll v1.6.46+0\n",
      "  [f27f6e37] + libvorbis_jll v1.3.7+2\n",
      "  [009596ad] + mtdev_jll v1.1.6+0\n",
      "â",
      " [1270edf5] + x264_jll v2021.5.5+0\n",
      "â",
      " [dfaa095f] + x265_jll v3.5.0+0\n",
      "  [d8fb68d0] + xkbcommon_jll v1.4.1+2\n",
      "  [37e2e46d] + LinearAlgebra v1.11.0\n",
      "  [2f01184e] + SparseArrays v1.11.0\n",
      "  [e66e0078] + CompilerSupportLibraries_jll v1.1.1+0\n",
      "  [4536629a] + OpenBLAS_jll v0.3.27+1\n",
      "  [05823500] + OpenLibm_jll v0.8.1+2\n",
      "  [efcefdf7] + PCRE2_jll v10.42.0+1\n",
      "  [bea87d4a] + SuiteSparse_jll v7.7.0+0\n",
      "  [8e850b90] + libblastrampoline_jll v5.11.0+0\n",
      "        Info Packages marked with â and â",
      " have new versions available. Those with â may be upgradable, but those with â",
      " are restricted by compatibility constraints from upgrading. To see why use `status --outdated -m`\n",
      "Precompiling project...\n",
      "  14570.9 ms  â LaTeXStrings\n",
      "  14441.1 ms  â TensorCore\n",
      "  14409.2 ms  â StatsAPI\n",
      "  14395.0 ms  â Contour\n",
      "  14377.8 ms  â Format\n",
      "   1144.7 ms  â Pipe\n",
      "   1746.6 ms  â StableRNGs\n",
      "   1829.8 ms  â Measures\n",
      "   2304.2 ms  â Statistics\n",
      "   1378.9 ms  â Reexport\n",
      "   3585.5 ms  â Grisu\n",
      "   2838.5 ms  â Unzip\n",
      "   1543.3 ms  â SimpleBufferStream\n",
      "   2563.9 ms  â URIs\n",
      "   1384.4 ms  â PtrArrays\n",
      "   2908.3 ms  â TranscodingStreams\n",
      "   1865.7 ms  â BitFlags\n",
      "   5045.8 ms  â IrrationalConstants\n",
      "   2309.8 ms  â NaNMath\n",
      "   2244.5 ms  â DelimitedFiles\n",
      "   1459.8 ms  â Missings\n",
      "   1787.6 ms  â CodecZlib\n",
      "   2455.3 ms  â LoggingExtras\n",
      "   2901.0 ms  â ConcurrentUtilities\n",
      "   1564.3 ms  â RelocatableFolders\n",
      "   2143.4 ms  â Compat\n",
      "   2569.3 ms  â DocStringExtensions\n",
      "   2474.8 ms  â ExceptionUnwrapping\n",
      "   2653.1 ms  â OpenSSL_jll\n",
      "   1994.4 ms  â Graphite2_jll\n",
      "   1934.9 ms  â EpollShim_jll\n",
      "   2434.5 ms  â Libmount_jll\n",
      "   5693.6 ms  â UnicodeFun\n",
      "   2094.3 ms  â LLVMOpenMP_jll\n",
      "   1627.8 ms  â Xorg_libICE_jll\n",
      "   2116.2 ms  â Xorg_libXau_jll\n",
      "   2545.3 ms  â Bzip2_jll\n",
      "   2357.2 ms  â libpng_jll\n",
      "   1971.1 ms  â libfdk_aac_jll\n",
      "   1829.8 ms  â LAME_jll\n",
      "   2353.6 ms  â LERC_jll\n",
      "   1856.7 ms  â fzf_jll\n",
      "   2426.9 ms  â JpegTurbo_jll\n",
      "   2493.5 ms  â XZ_jll\n",
      "   1518.2 ms  â mtdev_jll\n",
      "   1950.1 ms  â Ogg_jll\n",
      "   1565.6 ms  â gperf_jll\n",
      "   1673.4 ms  â x265_jll\n",
      "   1669.7 ms  â x264_jll\n",
      "   1831.8 ms  â Xorg_libXdmcp_jll\n",
      "   2111.0 ms  â libaom_jll\n",
      "   2060.5 ms  â Zstd_jll\n",
      "   2050.9 ms  â Expat_jll\n",
      "   2063.2 ms  â LZO_jll\n",
      "   1541.9 ms  â Opus_jll\n",
      "   1743.6 ms  â Xorg_xtrans_jll\n",
      "   1919.0 ms  â Libiconv_jll\n",
      "   2303.3 ms  â Libtiff_jll\n",
      "   1697.9 ms  â Libffi_jll\n",
      "   1467.7 ms  â Wayland_protocols_jll\n",
      "   2064.5 ms  â Libgpg_error_jll\n",
      "   1881.7 ms  â Xorg_libpthread_stubs_jll\n",
      "   2054.5 ms  â Libuuid_jll\n",
      "   2082.5 ms  â FriBidi_jll\n",
      "   4661.9 ms  â JSON\n",
      "   5569.7 ms  â RecipesBase\n",
      "   1286.8 ms  â Showoff\n",
      "   1598.1 ms  â AliasTables\n",
      "   3394.4 ms  â Statistics â SparseArraysExt\n",
      "   6891.8 ms  â FixedPointNumbers\n",
      "   1121.9 ms  â Compat â CompatLinearAlgebraExt\n",
      "   1811.0 ms  â LogExpFunctions\n",
      "   2296.6 ms  â Pixman_jll\n",
      "   4334.0 ms  â MbedTLS\n",
      "  12672.7 ms  â Latexify\n",
      "   4736.7 ms  â OpenSSL\n",
      "   1738.1 ms  â Xorg_libSM_jll\n",
      "   2194.1 ms  â FreeType2_jll\n",
      "   1659.4 ms  â eudev_jll\n",
      "   1677.0 ms  â libevdev_jll\n",
      "   2376.1 ms  â libvorbis_jll\n",
      "   1705.2 ms  â Dbus_jll\n",
      "   4596.5 ms  â JLFzf\n",
      "   1637.2 ms  â libinput_jll\n",
      "   2609.4 ms  â XML2_jll\n",
      "   2122.3 ms  â Latexify â SparseArraysExt\n",
      "   4112.5 ms  â ColorTypes\n",
      "   2156.1 ms  â Fontconfig_jll\n",
      "   5937.3 ms  â DataStructures\n",
      "   1916.7 ms  â Libgcrypt_jll\n",
      "   2088.8 ms  â Gettext_jll\n",
      "   1636.4 ms  â Wayland_jll\n",
      "   2001.2 ms  â SortingAlgorithms\n",
      "   2617.5 ms  â ColorTypes â StyledStringsExt\n",
      "   3472.7 ms  â XSLT_jll\n",
      "   6913.6 ms  â ColorVectorSpace\n",
      "   4805.4 ms  â Glib_jll\n",
      "   2071.2 ms  â Xorg_libxcb_jll\n",
      "  60522.7 ms  â Unitful\n",
      "   2141.8 ms  â Xorg_xcb_util_jll\n",
      "   2072.8 ms  â Xorg_libX11_jll\n",
      "   1655.3 ms  â Xorg_xcb_util_image_jll\n",
      "   1803.9 ms  â Xorg_xcb_util_keysyms_jll\n",
      "  10725.6 ms  â StatsBase\n",
      "  18039.6 ms  â Colors\n",
      "   1602.3 ms  â Xorg_xcb_util_wm_jll\n",
      "   1643.9 ms  â Xorg_libXrender_jll\n",
      "   1689.1 ms  â Xorg_xcb_util_renderutil_jll\n",
      "   6436.4 ms  â UnitfulLatexify\n",
      "   2608.9 ms  â Xorg_libXfixes_jll\n",
      "   2649.2 ms  â Xorg_libXext_jll\n",
      "   2970.9 ms  â Xorg_libxkbfile_jll\n",
      "   1919.4 ms  â Xorg_xcb_util_cursor_jll\n",
      "   1919.3 ms  â Xorg_libXcursor_jll\n",
      "   1854.7 ms  â Xorg_libXi_jll\n",
      "   1941.2 ms  â Xorg_libXinerama_jll\n",
      "   1925.6 ms  â Xorg_libXrandr_jll\n",
      "   3035.1 ms  â Cairo_jll\n",
      "   1540.0 ms  â Libglvnd_jll\n",
      "   1532.2 ms  â Xorg_xkbcomp_jll\n",
      "   1381.3 ms  â Xorg_xkeyboard_config_jll\n",
      "   2069.8 ms  â HarfBuzz_jll\n",
      "   1332.2 ms  â xkbcommon_jll\n",
      "   2309.9 ms  â libass_jll\n",
      "   2822.7 ms  â Pango_jll\n",
      "  11780.9 ms  â ColorSchemes\n",
      "   1966.8 ms  â Vulkan_Loader_jll\n",
      "   1432.0 ms  â libdecor_jll\n",
      "   3426.1 ms  â FFMPEG_jll\n",
      "   1718.4 ms  â GLFW_jll\n",
      "   3822.0 ms  â Qt6Base_jll\n",
      "   1984.5 ms  â FFMPEG\n",
      "   2246.3 ms  â Qt6ShaderTools_jll\n",
      "   3322.1 ms  â GR_jll\n",
      "   6382.4 ms  â Qt6Declarative_jll\n",
      "   2704.8 ms  â Qt6Wayland_jll\n",
      "  57018.6 ms  â HTTP\n",
      "  26259.2 ms  â PlotUtils\n",
      "   8345.8 ms  â GR\n",
      "   7249.9 ms  â PlotThemes\n",
      "  10069.2 ms  â RecipesPipeline\n",
      " 101195.1 ms  â Plots\n",
      "   7722.4 ms  â Plots â UnitfulExt\n",
      "  143 dependencies successfully precompiled in 254 seconds. 58 already precompiled.\n",
      "MethodError: no method matching iterate(::RecipesPipeline.DefaultsDict)\n",
      "The function `iterate` exists, but no method is defined for this combination of argument types.\n",
      "\n",
      "Closest candidates are:\n",
      "  iterate(::RecipesPipeline.DefaultsDict) (method too new to be called from this world context.)\n",
      "   @ RecipesPipeline C:\\Users\\Sam\\.julia\\packages\\RecipesPipeline\\BGM3l\\src\\utils.jl:39\n",
      "  iterate(::RecipesPipeline.DefaultsDict, !Matched::Any) (method too new to be called from this world context.)\n",
      "   @ RecipesPipeline C:\\Users\\Sam\\.julia\\packages\\RecipesPipeline\\BGM3l\\src\\utils.jl:43\n",
      "  iterate(!Matched::ExponentialBackOff)\n",
      "   @ Base error.jl:264\n",
      "  ...\n",
      "\n",
      "Stacktrace:\n",
      "  [1] isempty(itr::RecipesPipeline.DefaultsDict)\n",
      "    @ Base .\\essentials.jl:1121\n",
      "  [2] typeinfo_prefix(io::IOContext{IOBuffer}, X::RecipesPipeline.DefaultsDict)\n",
      "    @ Base .\\arrayshow.jl:582\n",
      "  [3] show(io::IOContext{IOBuffer}, t::RecipesPipeline.DefaultsDict)\n",
      "    @ Base .\\dict.jl:9\n",
      "  [4] _show_default(io::IOBuffer, x::Any)\n",
      "    @ Base .\\show.jl:499\n",
      "  [5] show_default\n",
      "    @ .\\show.jl:482 [inlined]\n",
      "  [6] show\n",
      "    @ .\\show.jl:477 [inlined]\n",
      "  [7] show\n",
      "    @ .\\multimedia.jl:47 [inlined]\n",
      "  [8] capture_mime(result::Plots.Plot{Plots.GRBackend})\n",
      "    @ Main.MyStreaming .\\none:46\n",
      "  [9] streaming_eval(code::String, cb::Py)\n",
      "    @ Main.MyStreaming .\\none:142\n",
      " [10] pyjlany_call(self::typeof(Main.MyStreaming.streaming_eval), args_::Py, kwargs_::Py)\n",
      "    @ PythonCall.JlWrap C:\\Users\\Sam\\.julia\\packages\\PythonCall\\Nr75f\\src\\JlWrap\\any.jl:43\n",
      " [11] _pyjl_callmethod(f::Any, self_::Ptr{PythonCall.C.PyObject}, args_::Ptr{PythonCall.C.PyObject}, nargs::Int64)\n",
      "    @ PythonCall.JlWrap C:\\Users\\Sam\\.julia\\packages\\PythonCall\\Nr75f\\src\\JlWrap\\base.jl:73\n",
      " [12] _pyjl_callmethod(o::Ptr{PythonCall.C.PyObject}, args::Ptr{PythonCall.C.PyObject})\n",
      "    @ PythonCall.JlWrap.Cjl C:\\Users\\Sam\\.julia\\packages\\PythonCall\\Nr75f\\src\\JlWrap\\C.jl:63"
     ]
    }
   ],
   "source": [
    "%julia\n",
    "import Pkg; Pkg.add(\"Plots\")\n",
    "using Plots\n",
    "p = plot(rand(10))  # final line: displays rich output"
   ]
  },
  {
   "cell_type": "code",
   "execution_count": 3,
   "id": "1dd421c7-9342-4d0b-af03-99e64102617e",
   "metadata": {
    "scrolled": true
   },
   "outputs": [
    {
     "name": "display_data",
     "output_type": "stream",
     "text": [
      "Dict(\"image/png\" => \"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\", \"text/html\" => \"<?xml version=\\\"1.0\\\" encoding=\\\"utf-8\\\"?>\\n<svg xmlns=\\\"http://www.w3.org/2000/svg\\\" xmlns:xlink=\\\"http://www.w3.org/1999/xlink\\\" width=\\\"600\\\" height=\\\"400\\\" viewBox=\\\"0 0 2400 1600\\\">\\n<defs>\\n  <clipPath id=\\\"clip430\\\">\\n    <rect x=\\\"0\\\" y=\\\"0\\\" width=\\\"2400\\\" height=\\\"1600\\\"/>\\n  </clipPath>\\n</defs>\\n<path clip-path=\\\"url(#clip430)\\\" d=\\\"M0 1600 L2400 1600 L2400 0 L0 0  Z\\\" fill=\\\"#ffffff\\\" fill-rule=\\\"evenodd\\\" fill-opacity=\\\"1\\\"/>\\n<defs>\\n  <clipPath id=\\\"clip431\\\">\\n    <rect x=\\\"480\\\" y=\\\"0\\\" width=\\\"1681\\\" height=\\\"1600\\\"/>\\n  </clipPath>\\n</defs>\\n<path clip-path=\\\"url(#clip430)\\\" d=\\\"M156.598 1486.45 L2352.76 1486.45 L2352.76 47.2441 L156.598 47.2441  Z\\\" fill=\\\"#ffffff\\\" fill-rule=\\\"evenodd\\\" fill-opacity=\\\"1\\\"/>\\n<defs>\\n  <clipPath id=\\\"clip432\\\">\\n    <rect x=\\\"156\\\" y=\\\"47\\\" width=\\\"2197\\\" height=\\\"1440\\\"/>\\n  </clipPath>\\n</defs>\\n<polyline clip-path=\\\"url(#clip432)\\\" style=\\\"stroke:#000000; stroke-linecap:round; stroke-linejoin:round; stroke-width:2; stroke-opacity:0.1; fill:none\\\" points=\\\"448.959,1486.45 448.959,47.2441 \\\"/>\\n<polyline clip-path=\\\"url(#clip432)\\\" style=\\\"stroke:#000000; stroke-linecap:round; stroke-linejoin:round; stroke-width:2; stroke-opacity:0.1; fill:none\\\" points=\\\"909.369,1486.45 909.369,47.2441 \\\"/>\\n<polyline clip-path=\\\"url(#clip432)\\\" style=\\\"stroke:#000000; stroke-linecap:round; stroke-linejoin:round; stroke-width:2; stroke-opacity:0.1; fill:none\\\" points=\\\"1369.78,1486.45 1369.78,47.2441 \\\"/>\\n<polyline clip-path=\\\"url(#clip432)\\\" style=\\\"stroke:#000000; stroke-linecap:round; stroke-linejoin:round; stroke-width:2; stroke-opacity:0.1; fill:none\\\" points=\\\"1830.19,1486.45 1830.19,47.2441 \\\"/>\\n<polyline clip-path=\\\"url(#clip432)\\\" style=\\\"stroke:#000000; stroke-linecap:round; stroke-linejoin:round; stroke-width:2; stroke-opacity:0.1; fill:none\\\" points=\\\"2290.6,1486.45 2290.6,47.2441 \\\"/>\\n<polyline clip-path=\\\"url(#clip432)\\\" style=\\\"stroke:#000000; stroke-linecap:round; stroke-linejoin:round; stroke-width:2; stroke-opacity:0.1; fill:none\\\" points=\\\"156.598,1330.26 2352.76,1330.26 \\\"/>\\n<polyline clip-path=\\\"url(#clip432)\\\" style=\\\"stroke:#000000; stroke-linecap:round; stroke-linejoin:round; stroke-width:2; stroke-opacity:0.1; fill:none\\\" points=\\\"156.598,1127.03 2352.76,1127.03 \\\"/>\\n<polyline clip-path=\\\"url(#clip432)\\\" style=\\\"stroke:#000000; stroke-linecap:round; stroke-linejoin:round; stroke-width:2; stroke-opacity:0.1; fill:none\\\" points=\\\"156.598,923.799 2352.76,923.799 \\\"/>\\n<polyline clip-path=\\\"url(#clip432)\\\" style=\\\"stroke:#000000; stroke-linecap:round; stroke-linejoin:round; stroke-width:2; stroke-opacity:0.1; fill:none\\\" points=\\\"156.598,720.568 2352.76,720.568 \\\"/>\\n<polyline clip-path=\\\"url(#clip432)\\\" style=\\\"stroke:#000000; stroke-linecap:round; stroke-linejoin:round; stroke-width:2; stroke-opacity:0.1; fill:none\\\" points=\\\"156.598,517.337 2352.76,517.337 \\\"/>\\n<polyline clip-path=\\\"url(#clip432)\\\" style=\\\"stroke:#000000; stroke-linecap:round; stroke-linejoin:round; stroke-width:2; stroke-opacity:0.1; fill:none\\\" points=\\\"156.598,314.106 2352.76,314.106 \\\"/>\\n<polyline clip-path=\\\"url(#clip432)\\\" style=\\\"stroke:#000000; stroke-linecap:round; stroke-linejoin:round; stroke-width:2; stroke-opacity:0.1; fill:none\\\" points=\\\"156.598,110.875 2352.76,110.875 \\\"/>\\n<polyline clip-path=\\\"url(#clip430)\\\" style=\\\"stroke:#000000; stroke-linecap:round; stroke-linejoin:round; stroke-width:4; stroke-opacity:1; fill:none\\\" points=\\\"156.598,1486.45 2352.76,1486.45 \\\"/>\\n<polyline clip-path=\\\"url(#clip430)\\\" style=\\\"stroke:#000000; stroke-linecap:round; stroke-linejoin:round; stroke-width:4; stroke-opacity:1; fill:none\\\" points=\\\"448.959,1486.45 448.959,1467.55 \\\"/>\\n<polyline clip-path=\\\"url(#clip430)\\\" style=\\\"stroke:#000000; stroke-linecap:round; stroke-linejoin:round; stroke-width:4; stroke-opacity:1; fill:none\\\" points=\\\"909.369,1486.45 909.369,1467.55 \\\"/>\\n<polyline clip-path=\\\"url(#clip430)\\\" style=\\\"stroke:#000000; stroke-linecap:round; stroke-linejoin:round; stroke-width:4; stroke-opacity:1; fill:none\\\" points=\\\"1369.78,1486.45 1369.78,1467.55 \\\"/>\\n<polyline clip-path=\\\"url(#clip430)\\\" style=\\\"stroke:#000000; stroke-linecap:round; stroke-linejoin:round; stroke-width:4; stroke-opacity:1; fill:none\\\" points=\\\"1830.19,1486.45 1830.19,1467.55 \\\"/>\\n<polyline clip-path=\\\"url(#clip430)\\\" style=\\\"stroke:#000000; stroke-linecap:round; stroke-linejoin:round; stroke-width:4; stroke-opacity:1; fill:none\\\" points=\\\"2290.6,1486.45 2290.6,1467.55 \\\"/>\\n<path clip-path=\\\"url(#clip430)\\\" d=\\\"M443.612 1544.91 L459.931 1544.91 L459.931 1548.85 L437.987 1548.85 L437.987 1544.91 Q440.649 1542.16 445.232 1537.53 Q449.838 1532.88 451.019 1531.53 Q453.264 1529.01 454.144 1527.27 Q455.047 1525.51 455.047 1523.82 Q455.047 1521.07 453.102 1519.33 Q451.181 1517.6 448.079 1517.6 Q445.88 1517.6 443.426 1518.36 Q440.996 1519.13 438.218 1520.68 L438.218 1515.95 Q441.042 1514.82 443.496 1514.24 Q445.95 1513.66 447.987 1513.66 Q453.357 1513.66 456.551 1516.35 Q459.746 1519.03 459.746 1523.52 Q459.746 1525.65 458.936 1527.57 Q458.149 1529.47 456.042 1532.07 Q455.463 1532.74 452.362 1535.95 Q449.26 1539.15 443.612 1544.91 Z\\\" fill=\\\"#000000\\\" fill-rule=\\\"nonzero\\\" fill-opacity=\\\"1\\\" /><path clip-path=\\\"url(#clip430)\\\" d=\\\"M912.379 1518.36 L900.573 1536.81 L912.379 1536.81 L912.379 1518.36 M911.152 1514.29 L917.031 1514.29 L917.031 1536.81 L921.962 1536.81 L921.962 1540.7 L917.031 1540.7 L917.031 1548.85 L912.379 1548.85 L912.379 1540.7 L896.777 1540.7 L896.777 1536.19 L911.152 1514.29 Z\\\" fill=\\\"#000000\\\" fill-rule=\\\"nonzero\\\" fill-opacity=\\\"1\\\" /><path clip-path=\\\"url(#clip430)\\\" d=\\\"M1370.18 1529.7 Q1367.04 1529.7 1365.18 1531.86 Q1363.36 1534.01 1363.36 1537.76 Q1363.36 1541.49 1365.18 1543.66 Q1367.04 1545.82 1370.18 1545.82 Q1373.33 1545.82 1375.16 1543.66 Q1377.01 1541.49 1377.01 1537.76 Q1377.01 1534.01 1375.16 1531.86 Q1373.33 1529.7 1370.18 1529.7 M1379.47 1515.05 L1379.47 1519.31 Q1377.71 1518.48 1375.9 1518.04 Q1374.12 1517.6 1372.36 1517.6 Q1367.73 1517.6 1365.28 1520.72 Q1362.85 1523.85 1362.5 1530.17 Q1363.87 1528.15 1365.93 1527.09 Q1367.99 1526 1370.46 1526 Q1375.67 1526 1378.68 1529.17 Q1381.71 1532.32 1381.71 1537.76 Q1381.71 1543.08 1378.56 1546.3 Q1375.42 1549.52 1370.18 1549.52 Q1364.19 1549.52 1361.02 1544.94 Q1357.85 1540.33 1357.85 1531.6 Q1357.85 1523.41 1361.74 1518.55 Q1365.62 1513.66 1372.18 1513.66 Q1373.93 1513.66 1375.72 1514.01 Q1377.52 1514.36 1379.47 1515.05 Z\\\" fill=\\\"#000000\\\" fill-rule=\\\"nonzero\\\" fill-opacity=\\\"1\\\" /><path clip-path=\\\"url(#clip430)\\\" d=\\\"M1830.19 1532.44 Q1826.86 1532.44 1824.94 1534.22 Q1823.04 1536 1823.04 1539.13 Q1823.04 1542.25 1824.94 1544.03 Q1826.86 1545.82 1830.19 1545.82 Q1833.52 1545.82 1835.44 1544.03 Q1837.37 1542.23 1837.37 1539.13 Q1837.37 1536 1835.44 1534.22 Q1833.55 1532.44 1830.19 1532.44 M1825.51 1530.45 Q1822.5 1529.7 1820.82 1527.64 Q1819.15 1525.58 1819.15 1522.62 Q1819.15 1518.48 1822.09 1516.07 Q1825.05 1513.66 1830.19 1513.66 Q1835.35 1513.66 1838.29 1516.07 Q1841.23 1518.48 1841.23 1522.62 Q1841.23 1525.58 1839.54 1527.64 Q1837.88 1529.7 1834.89 1530.45 Q1838.27 1531.23 1840.14 1533.52 Q1842.04 1535.82 1842.04 1539.13 Q1842.04 1544.15 1838.96 1546.83 Q1835.91 1549.52 1830.19 1549.52 Q1824.47 1549.52 1821.39 1546.83 Q1818.34 1544.15 1818.34 1539.13 Q1818.34 1535.82 1820.24 1533.52 Q1822.13 1531.23 1825.51 1530.45 M1823.8 1523.06 Q1823.8 1525.75 1825.47 1527.25 Q1827.16 1528.76 1830.19 1528.76 Q1833.2 1528.76 1834.89 1527.25 Q1836.6 1525.75 1836.6 1523.06 Q1836.6 1520.38 1834.89 1518.87 Q1833.2 1517.37 1830.19 1517.37 Q1827.16 1517.37 1825.47 1518.87 Q1823.8 1520.38 1823.8 1523.06 Z\\\" fill=\\\"#000000\\\" fill-rule=\\\"nonzero\\\" fill-opacity=\\\"1\\\" /><path clip-path=\\\"url(#clip430)\\\" d=\\\"M2265.29 1544.91 L2272.93 1544.91 L2272.93 1518.55 L2264.62 1520.21 L2264.62 1515.95 L2272.88 1514.29 L2277.56 1514.29 L2277.56 1544.91 L2285.2 1544.91 L2285.2 1548.85 L2265.29 1548.85 L2265.29 1544.91 Z\\\" fill=\\\"#000000\\\" fill-rule=\\\"nonzero\\\" fill-opacity=\\\"1\\\" /><path clip-path=\\\"url(#clip430)\\\" d=\\\"M2304.64 1517.37 Q2301.03 1517.37 2299.2 1520.93 Q2297.39 1524.47 2297.39 1531.6 Q2297.39 1538.71 2299.2 1542.27 Q2301.03 1545.82 2304.64 1545.82 Q2308.27 1545.82 2310.08 1542.27 Q2311.91 1538.71 2311.91 1531.6 Q2311.91 1524.47 2310.08 1520.93 Q2308.27 1517.37 2304.64 1517.37 M2304.64 1513.66 Q2310.45 1513.66 2313.51 1518.27 Q2316.58 1522.85 2316.58 1531.6 Q2316.58 1540.33 2313.51 1544.94 Q2310.45 1549.52 2304.64 1549.52 Q2298.83 1549.52 2295.75 1544.94 Q2292.7 1540.33 2292.7 1531.6 Q2292.7 1522.85 2295.75 1518.27 Q2298.83 1513.66 2304.64 1513.66 Z\\\" fill=\\\"#000000\\\" fill-rule=\\\"nonzero\\\" fill-opacity=\\\"1\\\" /><polyline clip-path=\\\"url(#clip430)\\\" style=\\\"stroke:#000000; stroke-linecap:round; stroke-linejoin:round; stroke-width:4; stroke-opacity:1; fill:none\\\" points=\\\"156.598,1486.45 156.598,47.2441 \\\"/>\\n<polyline clip-path=\\\"url(#clip430)\\\" style=\\\"stroke:#000000; stroke-linecap:round; stroke-linejoin:round; stroke-width:4; stroke-opacity:1; fill:none\\\" points=\\\"156.598,1330.26 175.496,1330.26 \\\"/>\\n<polyline clip-path=\\\"url(#clip430)\\\" style=\\\"stroke:#000000; stroke-linecap:round; stroke-linejoin:round; stroke-width:4; stroke-opacity:1; fill:none\\\" points=\\\"156.598,1127.03 175.496,1127.03 \\\"/>\\n<polyline clip-path=\\\"url(#clip430)\\\" style=\\\"stroke:#000000; stroke-linecap:round; stroke-linejoin:round; stroke-width:4; stroke-opacity:1; fill:none\\\" points=\\\"156.598,923.799 175.496,923.799 \\\"/>\\n<polyline clip-path=\\\"url(#clip430)\\\" style=\\\"stroke:#000000; stroke-linecap:round; stroke-linejoin:round; stroke-width:4; stroke-opacity:1; fill:none\\\" points=\\\"156.598,720.568 175.496,720.568 \\\"/>\\n<polyline clip-path=\\\"url(#clip430)\\\" style=\\\"stroke:#000000; stroke-linecap:round; stroke-linejoin:round; stroke-width:4; stroke-opacity:1; fill:none\\\" points=\\\"156.598,517.337 175.496,517.337 \\\"/>\\n<polyline clip-path=\\\"url(#clip430)\\\" style=\\\"stroke:#000000; stroke-linecap:round; stroke-linejoin:round; stroke-width:4; stroke-opacity:1; fill:none\\\" points=\\\"156.598,314.106 175.496,314.106 \\\"/>\\n<polyline clip-path=\\\"url(#clip430)\\\" style=\\\"stroke:#000000; stroke-linecap:round; stroke-linejoin:round; stroke-width:4; stroke-opacity:1; fill:none\\\" points=\\\"156.598,110.875 175.496,110.875 \\\"/>\\n<path clip-path=\\\"url(#clip430)\\\" d=\\\"M65.0198 1316.06 Q61.4087 1316.06 59.58 1319.62 Q57.7745 1323.17 57.7745 1330.3 Q57.7745 1337.4 59.58 1340.97 Q61.4087 1344.51 65.0198 1344.51 Q68.6541 1344.51 70.4596 1340.97 Q72.2883 1337.4 72.2883 1330.3 Q72.2883 1323.17 70.4596 1319.62 Q68.6541 1316.06 65.0198 1316.06 M65.0198 1312.36 Q70.83 1312.36 73.8855 1316.96 Q76.9642 1321.55 76.9642 1330.3 Q76.9642 1339.02 73.8855 1343.63 Q70.83 1348.21 65.0198 1348.21 Q59.2097 1348.21 56.131 1343.63 Q53.0754 1339.02 53.0754 1330.3 Q53.0754 1321.55 56.131 1316.96 Q59.2097 1312.36 65.0198 1312.36 Z\\\" fill=\\\"#000000\\\" fill-rule=\\\"nonzero\\\" fill-opacity=\\\"1\\\" /><path clip-path=\\\"url(#clip430)\\\" d=\\\"M85.1818 1341.66 L90.066 1341.66 L90.066 1347.54 L85.1818 1347.54 L85.1818 1341.66 Z\\\" fill=\\\"#000000\\\" fill-rule=\\\"nonzero\\\" fill-opacity=\\\"1\\\" /><path clip-path=\\\"url(#clip430)\\\" d=\\\"M104.279 1343.61 L120.598 1343.61 L120.598 1347.54 L98.6539 1347.54 L98.6539 1343.61 Q101.316 1340.85 105.899 1336.22 Q110.506 1331.57 111.686 1330.23 Q113.932 1327.7 114.811 1325.97 Q115.714 1324.21 115.714 1322.52 Q115.714 1319.76 113.77 1318.03 Q111.848 1316.29 108.746 1316.29 Q106.547 1316.29 104.094 1317.06 Q101.663 1317.82 98.8854 1319.37 L98.8854 1314.65 Q101.709 1313.51 104.163 1312.94 Q106.617 1312.36 108.654 1312.36 Q114.024 1312.36 117.219 1315.04 Q120.413 1317.73 120.413 1322.22 Q120.413 1324.35 119.603 1326.27 Q118.816 1328.17 116.709 1330.76 Q116.131 1331.43 113.029 1334.65 Q109.927 1337.84 104.279 1343.61 Z\\\" fill=\\\"#000000\\\" fill-rule=\\\"nonzero\\\" fill-opacity=\\\"1\\\" /><path clip-path=\\\"url(#clip430)\\\" d=\\\"M64.0708 1112.83 Q60.4597 1112.83 58.631 1116.39 Q56.8254 1119.94 56.8254 1127.07 Q56.8254 1134.17 58.631 1137.74 Q60.4597 1141.28 64.0708 1141.28 Q67.705 1141.28 69.5105 1137.74 Q71.3392 1134.17 71.3392 1127.07 Q71.3392 1119.94 69.5105 1116.39 Q67.705 1112.83 64.0708 1112.83 M64.0708 1109.13 Q69.8809 1109.13 72.9365 1113.73 Q76.0151 1118.32 76.0151 1127.07 Q76.0151 1135.79 72.9365 1140.4 Q69.8809 1144.98 64.0708 1144.98 Q58.2606 1144.98 55.1819 1140.4 Q52.1264 1135.79 52.1264 1127.07 Q52.1264 1118.32 55.1819 1113.73 Q58.2606 1109.13 64.0708 1109.13 Z\\\" fill=\\\"#000000\\\" fill-rule=\\\"nonzero\\\" fill-opacity=\\\"1\\\" /><path clip-path=\\\"url(#clip430)\\\" d=\\\"M84.2327 1138.43 L89.1169 1138.43 L89.1169 1144.31 L84.2327 1144.31 L84.2327 1138.43 Z\\\" fill=\\\"#000000\\\" fill-rule=\\\"nonzero\\\" fill-opacity=\\\"1\\\" /><path clip-path=\\\"url(#clip430)\\\" d=\\\"M113.469 1125.68 Q116.825 1126.39 118.7 1128.66 Q120.598 1130.93 120.598 1134.26 Q120.598 1139.38 117.08 1142.18 Q113.561 1144.98 107.08 1144.98 Q104.904 1144.98 102.589 1144.54 Q100.297 1144.13 97.8437 1143.27 L97.8437 1138.75 Q99.7882 1139.89 102.103 1140.47 Q104.418 1141.05 106.941 1141.05 Q111.339 1141.05 113.631 1139.31 Q115.945 1137.57 115.945 1134.26 Q115.945 1131.21 113.793 1129.5 Q111.663 1127.76 107.844 1127.76 L103.816 1127.76 L103.816 1123.92 L108.029 1123.92 Q111.478 1123.92 113.307 1122.55 Q115.135 1121.16 115.135 1118.57 Q115.135 1115.91 113.237 1114.5 Q111.362 1113.06 107.844 1113.06 Q105.922 1113.06 103.723 1113.48 Q101.524 1113.89 98.8854 1114.77 L98.8854 1110.61 Q101.547 1109.87 103.862 1109.5 Q106.2 1109.13 108.26 1109.13 Q113.584 1109.13 116.686 1111.56 Q119.788 1113.96 119.788 1118.08 Q119.788 1120.95 118.145 1122.94 Q116.501 1124.91 113.469 1125.68 Z\\\" fill=\\\"#000000\\\" fill-rule=\\\"nonzero\\\" fill-opacity=\\\"1\\\" /><path clip-path=\\\"url(#clip430)\\\" d=\\\"M62.9365 909.598 Q59.3254 909.598 57.4967 913.163 Q55.6912 916.704 55.6912 923.834 Q55.6912 930.94 57.4967 934.505 Q59.3254 938.047 62.9365 938.047 Q66.5707 938.047 68.3763 934.505 Q70.205 930.94 70.205 923.834 Q70.205 916.704 68.3763 913.163 Q66.5707 909.598 62.9365 909.598 M62.9365 905.894 Q68.7467 905.894 71.8022 910.501 Q74.8809 915.084 74.8809 923.834 Q74.8809 932.561 71.8022 937.167 Q68.7467 941.751 62.9365 941.751 Q57.1264 941.751 54.0477 937.167 Q50.9921 932.561 50.9921 923.834 Q50.9921 915.084 54.0477 910.501 Q57.1264 905.894 62.9365 905.894 Z\\\" fill=\\\"#000000\\\" fill-rule=\\\"nonzero\\\" fill-opacity=\\\"1\\\" /><path clip-path=\\\"url(#clip430)\\\" d=\\\"M83.0984 935.2 L87.9827 935.2 L87.9827 941.079 L83.0984 941.079 L83.0984 935.2 Z\\\" fill=\\\"#000000\\\" fill-rule=\\\"nonzero\\\" fill-opacity=\\\"1\\\" /><path clip-path=\\\"url(#clip430)\\\" d=\\\"M111.015 910.593 L99.2095 929.042 L111.015 929.042 L111.015 910.593 M109.788 906.519 L115.668 906.519 L115.668 929.042 L120.598 929.042 L120.598 932.931 L115.668 932.931 L115.668 941.079 L111.015 941.079 L111.015 932.931 L95.4132 932.931 L95.4132 928.417 L109.788 906.519 Z\\\" fill=\\\"#000000\\\" fill-rule=\\\"nonzero\\\" fill-opacity=\\\"1\\\" /><path clip-path=\\\"url(#clip430)\\\" d=\\\"M64.418 706.367 Q60.8069 706.367 58.9782 709.932 Q57.1726 713.473 57.1726 720.603 Q57.1726 727.709 58.9782 731.274 Q60.8069 734.816 64.418 734.816 Q68.0522 734.816 69.8578 731.274 Q71.6865 727.709 71.6865 720.603 Q71.6865 713.473 69.8578 709.932 Q68.0522 706.367 64.418 706.367 M64.418 702.663 Q70.2281 702.663 73.2837 707.27 Q76.3624 711.853 76.3624 720.603 Q76.3624 729.33 73.2837 733.936 Q70.2281 738.519 64.418 738.519 Q58.6078 738.519 55.5291 733.936 Q52.4736 729.33 52.4736 720.603 Q52.4736 711.853 55.5291 707.27 Q58.6078 702.663 64.418 702.663 Z\\\" fill=\\\"#000000\\\" fill-rule=\\\"nonzero\\\" fill-opacity=\\\"1\\\" /><path clip-path=\\\"url(#clip430)\\\" d=\\\"M84.5799 731.969 L89.4641 731.969 L89.4641 737.848 L84.5799 737.848 L84.5799 731.969 Z\\\" fill=\\\"#000000\\\" fill-rule=\\\"nonzero\\\" fill-opacity=\\\"1\\\" /><path clip-path=\\\"url(#clip430)\\\" d=\\\"M99.6956 703.288 L118.052 703.288 L118.052 707.223 L103.978 707.223 L103.978 715.696 Q104.996 715.348 106.015 715.186 Q107.033 715.001 108.052 715.001 Q113.839 715.001 117.219 718.172 Q120.598 721.344 120.598 726.76 Q120.598 732.339 117.126 735.441 Q113.654 738.519 107.334 738.519 Q105.159 738.519 102.89 738.149 Q100.645 737.779 98.2372 737.038 L98.2372 732.339 Q100.321 733.473 102.543 734.029 Q104.765 734.584 107.242 734.584 Q111.246 734.584 113.584 732.478 Q115.922 730.371 115.922 726.76 Q115.922 723.149 113.584 721.043 Q111.246 718.936 107.242 718.936 Q105.367 718.936 103.492 719.353 Q101.64 719.77 99.6956 720.649 L99.6956 703.288 Z\\\" fill=\\\"#000000\\\" fill-rule=\\\"nonzero\\\" fill-opacity=\\\"1\\\" /><path clip-path=\\\"url(#clip430)\\\" d=\\\"M63.2606 503.136 Q59.6495 503.136 57.8208 506.701 Q56.0152 510.242 56.0152 517.372 Q56.0152 524.478 57.8208 528.043 Q59.6495 531.585 63.2606 531.585 Q66.8948 531.585 68.7004 528.043 Q70.5291 524.478 70.5291 517.372 Q70.5291 510.242 68.7004 506.701 Q66.8948 503.136 63.2606 503.136 M63.2606 499.432 Q69.0707 499.432 72.1263 504.039 Q75.205 508.622 75.205 517.372 Q75.205 526.099 72.1263 530.705 Q69.0707 535.288 63.2606 535.288 Q57.4504 535.288 54.3717 530.705 Q51.3162 526.099 51.3162 517.372 Q51.3162 508.622 54.3717 504.039 Q57.4504 499.432 63.2606 499.432 Z\\\" fill=\\\"#000000\\\" fill-rule=\\\"nonzero\\\" fill-opacity=\\\"1\\\" /><path clip-path=\\\"url(#clip430)\\\" d=\\\"M83.4225 528.738 L88.3067 528.738 L88.3067 534.617 L83.4225 534.617 L83.4225 528.738 Z\\\" fill=\\\"#000000\\\" fill-rule=\\\"nonzero\\\" fill-opacity=\\\"1\\\" /><path clip-path=\\\"url(#clip430)\\\" d=\\\"M109.071 515.474 Q105.922 515.474 104.071 517.626 Q102.242 519.779 102.242 523.529 Q102.242 527.256 104.071 529.432 Q105.922 531.585 109.071 531.585 Q112.219 531.585 114.047 529.432 Q115.899 527.256 115.899 523.529 Q115.899 519.779 114.047 517.626 Q112.219 515.474 109.071 515.474 M118.353 500.821 L118.353 505.08 Q116.594 504.247 114.788 503.807 Q113.006 503.367 111.246 503.367 Q106.617 503.367 104.163 506.492 Q101.733 509.617 101.385 515.937 Q102.751 513.923 104.811 512.858 Q106.871 511.77 109.348 511.77 Q114.557 511.77 117.566 514.941 Q120.598 518.089 120.598 523.529 Q120.598 528.853 117.45 532.071 Q114.302 535.288 109.071 535.288 Q103.075 535.288 99.9039 530.705 Q96.7326 526.099 96.7326 517.372 Q96.7326 509.177 100.621 504.316 Q104.51 499.432 111.061 499.432 Q112.82 499.432 114.603 499.779 Q116.408 500.127 118.353 500.821 Z\\\" fill=\\\"#000000\\\" fill-rule=\\\"nonzero\\\" fill-opacity=\\\"1\\\" /><path clip-path=\\\"url(#clip430)\\\" d=\\\"M64.3254 299.905 Q60.7143 299.905 58.8856 303.47 Q57.0801 307.011 57.0801 314.141 Q57.0801 321.247 58.8856 324.812 Q60.7143 328.354 64.3254 328.354 Q67.9596 328.354 69.7652 324.812 Q71.5939 321.247 71.5939 314.141 Q71.5939 307.011 69.7652 303.47 Q67.9596 299.905 64.3254 299.905 M64.3254 296.201 Q70.1355 296.201 73.1911 300.808 Q76.2698 305.391 76.2698 314.141 Q76.2698 322.868 73.1911 327.474 Q70.1355 332.057 64.3254 332.057 Q58.5152 332.057 55.4365 327.474 Q52.381 322.868 52.381 314.141 Q52.381 305.391 55.4365 300.808 Q58.5152 296.201 64.3254 296.201 Z\\\" fill=\\\"#000000\\\" fill-rule=\\\"nonzero\\\" fill-opacity=\\\"1\\\" /><path clip-path=\\\"url(#clip430)\\\" d=\\\"M84.4873 325.506 L89.3715 325.506 L89.3715 331.386 L84.4873 331.386 L84.4873 325.506 Z\\\" fill=\\\"#000000\\\" fill-rule=\\\"nonzero\\\" fill-opacity=\\\"1\\\" /><path clip-path=\\\"url(#clip430)\\\" d=\\\"M98.3761 296.826 L120.598 296.826 L120.598 298.817 L108.052 331.386 L103.168 331.386 L114.973 300.761 L98.3761 300.761 L98.3761 296.826 Z\\\" fill=\\\"#000000\\\" fill-rule=\\\"nonzero\\\" fill-opacity=\\\"1\\\" /><path clip-path=\\\"url(#clip430)\\\" d=\\\"M63.5152 96.6737 Q59.9041 96.6737 58.0754 100.238 Q56.2699 103.78 56.2699 110.91 Q56.2699 118.016 58.0754 121.581 Q59.9041 125.123 63.5152 125.123 Q67.1494 125.123 68.955 121.581 Q70.7837 118.016 70.7837 110.91 Q70.7837 103.78 68.955 100.238 Q67.1494 96.6737 63.5152 96.6737 M63.5152 92.97 Q69.3254 92.97 72.3809 97.5765 Q75.4596 102.16 75.4596 110.91 Q75.4596 119.637 72.3809 124.243 Q69.3254 128.826 63.5152 128.826 Q57.7051 128.826 54.6264 124.243 Q51.5708 119.637 51.5708 110.91 Q51.5708 102.16 54.6264 97.5765 Q57.7051 92.97 63.5152 92.97 Z\\\" fill=\\\"#000000\\\" fill-rule=\\\"nonzero\\\" fill-opacity=\\\"1\\\" /><path clip-path=\\\"url(#clip430)\\\" d=\\\"M83.6771 122.275 L88.5614 122.275 L88.5614 128.155 L83.6771 128.155 L83.6771 122.275 Z\\\" fill=\\\"#000000\\\" fill-rule=\\\"nonzero\\\" fill-opacity=\\\"1\\\" /><path clip-path=\\\"url(#clip430)\\\" d=\\\"M108.746 111.743 Q105.413 111.743 103.492 113.525 Q101.594 115.308 101.594 118.433 Q101.594 121.558 103.492 123.34 Q105.413 125.123 108.746 125.123 Q112.08 125.123 114.001 123.34 Q115.922 121.535 115.922 118.433 Q115.922 115.308 114.001 113.525 Q112.103 111.743 108.746 111.743 M104.071 109.752 Q101.061 109.012 99.3715 106.951 Q97.7048 104.891 97.7048 101.928 Q97.7048 97.7848 100.645 95.3774 Q103.608 92.97 108.746 92.97 Q113.908 92.97 116.848 95.3774 Q119.788 97.7848 119.788 101.928 Q119.788 104.891 118.098 106.951 Q116.432 109.012 113.445 109.752 Q116.825 110.539 118.7 112.831 Q120.598 115.123 120.598 118.433 Q120.598 123.456 117.52 126.141 Q114.464 128.826 108.746 128.826 Q103.029 128.826 99.9502 126.141 Q96.8947 123.456 96.8947 118.433 Q96.8947 115.123 98.7928 112.831 Q100.691 110.539 104.071 109.752 M102.358 102.368 Q102.358 105.053 104.024 106.558 Q105.714 108.063 108.746 108.063 Q111.756 108.063 113.445 106.558 Q115.158 105.053 115.158 102.368 Q115.158 99.6829 113.445 98.1783 Q111.756 96.6737 108.746 96.6737 Q105.714 96.6737 104.024 98.1783 Q102.358 99.6829 102.358 102.368 Z\\\" fill=\\\"#000000\\\" fill-rule=\\\"nonzero\\\" fill-opacity=\\\"1\\\" /><polyline clip-path=\\\"url(#clip432)\\\" style=\\\"stroke:#009af9; stroke-linecap:round; stroke-linejoin:round; stroke-width:4; stroke-opacity:1; fill:none\\\" points=\\\"218.754,1400.32 448.959,1445.72 679.164,221.976 909.369,87.9763 1139.57,135.918 1369.78,1133.47 1599.98,746.592 1830.19,288.528 2060.4,1266.04 2290.6,680.46 \\\"/>\\n<path clip-path=\\\"url(#clip430)\\\" d=\\\"M2007.5 198.898 L2279.55 198.898 L2279.55 95.2176 L2007.5 95.2176  Z\\\" fill=\\\"#ffffff\\\" fill-rule=\\\"evenodd\\\" fill-opacity=\\\"1\\\"/>\\n<polyline clip-path=\\\"url(#clip430)\\\" style=\\\"stroke:#000000; stroke-linecap:round; stroke-linejoin:round; stroke-width:4; stroke-opacity:1; fill:none\\\" points=\\\"2007.5,198.898 2279.55,198.898 2279.55,95.2176 2007.5,95.2176 2007.5,198.898 \\\"/>\\n<polyline clip-path=\\\"url(#clip430)\\\" style=\\\"stroke:#009af9; stroke-linecap:round; stroke-linejoin:round; stroke-width:4; stroke-opacity:1; fill:none\\\" points=\\\"2031.91,147.058 2178.32,147.058 \\\"/>\\n<path clip-path=\\\"url(#clip430)\\\" d=\\\"M2216.56 166.745 Q2214.76 171.375 2213.04 172.787 Q2211.33 174.199 2208.46 174.199 L2205.06 174.199 L2205.06 170.634 L2207.56 170.634 Q2209.32 170.634 2210.29 169.8 Q2211.26 168.967 2212.44 165.865 L2213.2 163.921 L2202.72 138.412 L2207.23 138.412 L2215.33 158.689 L2223.44 138.412 L2227.95 138.412 L2216.56 166.745 Z\\\" fill=\\\"#000000\\\" fill-rule=\\\"nonzero\\\" fill-opacity=\\\"1\\\" /><path clip-path=\\\"url(#clip430)\\\" d=\\\"M2235.24 160.402 L2242.88 160.402 L2242.88 134.037 L2234.57 135.703 L2234.57 131.444 L2242.83 129.778 L2247.51 129.778 L2247.51 160.402 L2255.15 160.402 L2255.15 164.338 L2235.24 164.338 L2235.24 160.402 Z\\\" fill=\\\"#000000\\\" fill-rule=\\\"nonzero\\\" fill-opacity=\\\"1\\\" /></svg>\\n\", \"image/svg+xml\" => \"<?xml version=\\\"1.0\\\" encoding=\\\"utf-8\\\"?>\\n<svg xmlns=\\\"http://www.w3.org/2000/svg\\\" xmlns:xlink=\\\"http://www.w3.org/1999/xlink\\\" width=\\\"600\\\" height=\\\"400\\\" viewBox=\\\"0 0 2400 1600\\\">\\n<defs>\\n  <clipPath id=\\\"clip460\\\">\\n    <rect x=\\\"0\\\" y=\\\"0\\\" width=\\\"2400\\\" height=\\\"1600\\\"/>\\n  </clipPath>\\n</defs>\\n<path clip-path=\\\"url(#clip460)\\\" d=\\\"M0 1600 L2400 1600 L2400 0 L0 0  Z\\\" fill=\\\"#ffffff\\\" fill-rule=\\\"evenodd\\\" fill-opacity=\\\"1\\\"/>\\n<defs>\\n  <clipPath id=\\\"clip461\\\">\\n    <rect x=\\\"480\\\" y=\\\"0\\\" width=\\\"1681\\\" height=\\\"1600\\\"/>\\n  </clipPath>\\n</defs>\\n<path clip-path=\\\"url(#clip460)\\\" d=\\\"M156.598 1486.45 L2352.76 1486.45 L2352.76 47.2441 L156.598 47.2441  Z\\\" fill=\\\"#ffffff\\\" fill-rule=\\\"evenodd\\\" fill-opacity=\\\"1\\\"/>\\n<defs>\\n  <clipPath id=\\\"clip462\\\">\\n    <rect x=\\\"156\\\" y=\\\"47\\\" width=\\\"2197\\\" height=\\\"1440\\\"/>\\n  </clipPath>\\n</defs>\\n<polyline clip-path=\\\"url(#clip462)\\\" style=\\\"stroke:#000000; stroke-linecap:round; stroke-linejoin:round; stroke-width:2; stroke-opacity:0.1; fill:none\\\" points=\\\"448.959,1486.45 448.959,47.2441 \\\"/>\\n<polyline clip-path=\\\"url(#clip462)\\\" style=\\\"stroke:#000000; stroke-linecap:round; stroke-linejoin:round; stroke-width:2; stroke-opacity:0.1; fill:none\\\" points=\\\"909.369,1486.45 909.369,47.2441 \\\"/>\\n<polyline clip-path=\\\"url(#clip462)\\\" style=\\\"stroke:#000000; stroke-linecap:round; stroke-linejoin:round; stroke-width:2; stroke-opacity:0.1; fill:none\\\" points=\\\"1369.78,1486.45 1369.78,47.2441 \\\"/>\\n<polyline clip-path=\\\"url(#clip462)\\\" style=\\\"stroke:#000000; stroke-linecap:round; stroke-linejoin:round; stroke-width:2; stroke-opacity:0.1; fill:none\\\" points=\\\"1830.19,1486.45 1830.19,47.2441 \\\"/>\\n<polyline clip-path=\\\"url(#clip462)\\\" style=\\\"stroke:#000000; stroke-linecap:round; stroke-linejoin:round; stroke-width:2; stroke-opacity:0.1; fill:none\\\" points=\\\"2290.6,1486.45 2290.6,47.2441 \\\"/>\\n<polyline clip-path=\\\"url(#clip462)\\\" style=\\\"stroke:#000000; stroke-linecap:round; stroke-linejoin:round; stroke-width:2; stroke-opacity:0.1; fill:none\\\" points=\\\"156.598,1330.26 2352.76,1330.26 \\\"/>\\n<polyline clip-path=\\\"url(#clip462)\\\" style=\\\"stroke:#000000; stroke-linecap:round; stroke-linejoin:round; stroke-width:2; stroke-opacity:0.1; fill:none\\\" points=\\\"156.598,1127.03 2352.76,1127.03 \\\"/>\\n<polyline clip-path=\\\"url(#clip462)\\\" style=\\\"stroke:#000000; stroke-linecap:round; stroke-linejoin:round; stroke-width:2; stroke-opacity:0.1; fill:none\\\" points=\\\"156.598,923.799 2352.76,923.799 \\\"/>\\n<polyline clip-path=\\\"url(#clip462)\\\" style=\\\"stroke:#000000; stroke-linecap:round; stroke-linejoin:round; stroke-width:2; stroke-opacity:0.1; fill:none\\\" points=\\\"156.598,720.568 2352.76,720.568 \\\"/>\\n<polyline clip-path=\\\"url(#clip462)\\\" style=\\\"stroke:#000000; stroke-linecap:round; stroke-linejoin:round; stroke-width:2; stroke-opacity:0.1; fill:none\\\" points=\\\"156.598,517.337 2352.76,517.337 \\\"/>\\n<polyline clip-path=\\\"url(#clip462)\\\" style=\\\"stroke:#000000; stroke-linecap:round; stroke-linejoin:round; stroke-width:2; stroke-opacity:0.1; fill:none\\\" points=\\\"156.598,314.106 2352.76,314.106 \\\"/>\\n<polyline clip-path=\\\"url(#clip462)\\\" style=\\\"stroke:#000000; stroke-linecap:round; stroke-linejoin:round; stroke-width:2; stroke-opacity:0.1; fill:none\\\" points=\\\"156.598,110.875 2352.76,110.875 \\\"/>\\n<polyline clip-path=\\\"url(#clip460)\\\" style=\\\"stroke:#000000; stroke-linecap:round; stroke-linejoin:round; stroke-width:4; stroke-opacity:1; fill:none\\\" points=\\\"156.598,1486.45 2352.76,1486.45 \\\"/>\\n<polyline clip-path=\\\"url(#clip460)\\\" style=\\\"stroke:#000000; stroke-linecap:round; stroke-linejoin:round; stroke-width:4; stroke-opacity:1; fill:none\\\" points=\\\"448.959,1486.45 448.959,1467.55 \\\"/>\\n<polyline clip-path=\\\"url(#clip460)\\\" style=\\\"stroke:#000000; stroke-linecap:round; stroke-linejoin:round; stroke-width:4; stroke-opacity:1; fill:none\\\" points=\\\"909.369,1486.45 909.369,1467.55 \\\"/>\\n<polyline clip-path=\\\"url(#clip460)\\\" style=\\\"stroke:#000000; stroke-linecap:round; stroke-linejoin:round; stroke-width:4; stroke-opacity:1; fill:none\\\" points=\\\"1369.78,1486.45 1369.78,1467.55 \\\"/>\\n<polyline clip-path=\\\"url(#clip460)\\\" style=\\\"stroke:#000000; stroke-linecap:round; stroke-linejoin:round; stroke-width:4; stroke-opacity:1; fill:none\\\" points=\\\"1830.19,1486.45 1830.19,1467.55 \\\"/>\\n<polyline clip-path=\\\"url(#clip460)\\\" style=\\\"stroke:#000000; stroke-linecap:round; stroke-linejoin:round; stroke-width:4; stroke-opacity:1; fill:none\\\" points=\\\"2290.6,1486.45 2290.6,1467.55 \\\"/>\\n<path clip-path=\\\"url(#clip460)\\\" d=\\\"M443.612 1544.91 L459.931 1544.91 L459.931 1548.85 L437.987 1548.85 L437.987 1544.91 Q440.649 1542.16 445.232 1537.53 Q449.838 1532.88 451.019 1531.53 Q453.264 1529.01 454.144 1527.27 Q455.047 1525.51 455.047 1523.82 Q455.047 1521.07 453.102 1519.33 Q451.181 1517.6 448.079 1517.6 Q445.88 1517.6 443.426 1518.36 Q440.996 1519.13 438.218 1520.68 L438.218 1515.95 Q441.042 1514.82 443.496 1514.24 Q445.95 1513.66 447.987 1513.66 Q453.357 1513.66 456.551 1516.35 Q459.746 1519.03 459.746 1523.52 Q459.746 1525.65 458.936 1527.57 Q458.149 1529.47 456.042 1532.07 Q455.463 1532.74 452.362 1535.95 Q449.26 1539.15 443.612 1544.91 Z\\\" fill=\\\"#000000\\\" fill-rule=\\\"nonzero\\\" fill-opacity=\\\"1\\\" /><path clip-path=\\\"url(#clip460)\\\" d=\\\"M912.379 1518.36 L900.573 1536.81 L912.379 1536.81 L912.379 1518.36 M911.152 1514.29 L917.031 1514.29 L917.031 1536.81 L921.962 1536.81 L921.962 1540.7 L917.031 1540.7 L917.031 1548.85 L912.379 1548.85 L912.379 1540.7 L896.777 1540.7 L896.777 1536.19 L911.152 1514.29 Z\\\" fill=\\\"#000000\\\" fill-rule=\\\"nonzero\\\" fill-opacity=\\\"1\\\" /><path clip-path=\\\"url(#clip460)\\\" d=\\\"M1370.18 1529.7 Q1367.04 1529.7 1365.18 1531.86 Q1363.36 1534.01 1363.36 1537.76 Q1363.36 1541.49 1365.18 1543.66 Q1367.04 1545.82 1370.18 1545.82 Q1373.33 1545.82 1375.16 1543.66 Q1377.01 1541.49 1377.01 1537.76 Q1377.01 1534.01 1375.16 1531.86 Q1373.33 1529.7 1370.18 1529.7 M1379.47 1515.05 L1379.47 1519.31 Q1377.71 1518.48 1375.9 1518.04 Q1374.12 1517.6 1372.36 1517.6 Q1367.73 1517.6 1365.28 1520.72 Q1362.85 1523.85 1362.5 1530.17 Q1363.87 1528.15 1365.93 1527.09 Q1367.99 1526 1370.46 1526 Q1375.67 1526 1378.68 1529.17 Q1381.71 1532.32 1381.71 1537.76 Q1381.71 1543.08 1378.56 1546.3 Q1375.42 1549.52 1370.18 1549.52 Q1364.19 1549.52 1361.02 1544.94 Q1357.85 1540.33 1357.85 1531.6 Q1357.85 1523.41 1361.74 1518.55 Q1365.62 1513.66 1372.18 1513.66 Q1373.93 1513.66 1375.72 1514.01 Q1377.52 1514.36 1379.47 1515.05 Z\\\" fill=\\\"#000000\\\" fill-rule=\\\"nonzero\\\" fill-opacity=\\\"1\\\" /><path clip-path=\\\"url(#clip460)\\\" d=\\\"M1830.19 1532.44 Q1826.86 1532.44 1824.94 1534.22 Q1823.04 1536 1823.04 1539.13 Q1823.04 1542.25 1824.94 1544.03 Q1826.86 1545.82 1830.19 1545.82 Q1833.52 1545.82 1835.44 1544.03 Q1837.37 1542.23 1837.37 1539.13 Q1837.37 1536 1835.44 1534.22 Q1833.55 1532.44 1830.19 1532.44 M1825.51 1530.45 Q1822.5 1529.7 1820.82 1527.64 Q1819.15 1525.58 1819.15 1522.62 Q1819.15 1518.48 1822.09 1516.07 Q1825.05 1513.66 1830.19 1513.66 Q1835.35 1513.66 1838.29 1516.07 Q1841.23 1518.48 1841.23 1522.62 Q1841.23 1525.58 1839.54 1527.64 Q1837.88 1529.7 1834.89 1530.45 Q1838.27 1531.23 1840.14 1533.52 Q1842.04 1535.82 1842.04 1539.13 Q1842.04 1544.15 1838.96 1546.83 Q1835.91 1549.52 1830.19 1549.52 Q1824.47 1549.52 1821.39 1546.83 Q1818.34 1544.15 1818.34 1539.13 Q1818.34 1535.82 1820.24 1533.52 Q1822.13 1531.23 1825.51 1530.45 M1823.8 1523.06 Q1823.8 1525.75 1825.47 1527.25 Q1827.16 1528.76 1830.19 1528.76 Q1833.2 1528.76 1834.89 1527.25 Q1836.6 1525.75 1836.6 1523.06 Q1836.6 1520.38 1834.89 1518.87 Q1833.2 1517.37 1830.19 1517.37 Q1827.16 1517.37 1825.47 1518.87 Q1823.8 1520.38 1823.8 1523.06 Z\\\" fill=\\\"#000000\\\" fill-rule=\\\"nonzero\\\" fill-opacity=\\\"1\\\" /><path clip-path=\\\"url(#clip460)\\\" d=\\\"M2265.29 1544.91 L2272.93 1544.91 L2272.93 1518.55 L2264.62 1520.21 L2264.62 1515.95 L2272.88 1514.29 L2277.56 1514.29 L2277.56 1544.91 L2285.2 1544.91 L2285.2 1548.85 L2265.29 1548.85 L2265.29 1544.91 Z\\\" fill=\\\"#000000\\\" fill-rule=\\\"nonzero\\\" fill-opacity=\\\"1\\\" /><path clip-path=\\\"url(#clip460)\\\" d=\\\"M2304.64 1517.37 Q2301.03 1517.37 2299.2 1520.93 Q2297.39 1524.47 2297.39 1531.6 Q2297.39 1538.71 2299.2 1542.27 Q2301.03 1545.82 2304.64 1545.82 Q2308.27 1545.82 2310.08 1542.27 Q2311.91 1538.71 2311.91 1531.6 Q2311.91 1524.47 2310.08 1520.93 Q2308.27 1517.37 2304.64 1517.37 M2304.64 1513.66 Q2310.45 1513.66 2313.51 1518.27 Q2316.58 1522.85 2316.58 1531.6 Q2316.58 1540.33 2313.51 1544.94 Q2310.45 1549.52 2304.64 1549.52 Q2298.83 1549.52 2295.75 1544.94 Q2292.7 1540.33 2292.7 1531.6 Q2292.7 1522.85 2295.75 1518.27 Q2298.83 1513.66 2304.64 1513.66 Z\\\" fill=\\\"#000000\\\" fill-rule=\\\"nonzero\\\" fill-opacity=\\\"1\\\" /><polyline clip-path=\\\"url(#clip460)\\\" style=\\\"stroke:#000000; stroke-linecap:round; stroke-linejoin:round; stroke-width:4; stroke-opacity:1; fill:none\\\" points=\\\"156.598,1486.45 156.598,47.2441 \\\"/>\\n<polyline clip-path=\\\"url(#clip460)\\\" style=\\\"stroke:#000000; stroke-linecap:round; stroke-linejoin:round; stroke-width:4; stroke-opacity:1; fill:none\\\" points=\\\"156.598,1330.26 175.496,1330.26 \\\"/>\\n<polyline clip-path=\\\"url(#clip460)\\\" style=\\\"stroke:#000000; stroke-linecap:round; stroke-linejoin:round; stroke-width:4; stroke-opacity:1; fill:none\\\" points=\\\"156.598,1127.03 175.496,1127.03 \\\"/>\\n<polyline clip-path=\\\"url(#clip460)\\\" style=\\\"stroke:#000000; stroke-linecap:round; stroke-linejoin:round; stroke-width:4; stroke-opacity:1; fill:none\\\" points=\\\"156.598,923.799 175.496,923.799 \\\"/>\\n<polyline clip-path=\\\"url(#clip460)\\\" style=\\\"stroke:#000000; stroke-linecap:round; stroke-linejoin:round; stroke-width:4; stroke-opacity:1; fill:none\\\" points=\\\"156.598,720.568 175.496,720.568 \\\"/>\\n<polyline clip-path=\\\"url(#clip460)\\\" style=\\\"stroke:#000000; stroke-linecap:round; stroke-linejoin:round; stroke-width:4; stroke-opacity:1; fill:none\\\" points=\\\"156.598,517.337 175.496,517.337 \\\"/>\\n<polyline clip-path=\\\"url(#clip460)\\\" style=\\\"stroke:#000000; stroke-linecap:round; stroke-linejoin:round; stroke-width:4; stroke-opacity:1; fill:none\\\" points=\\\"156.598,314.106 175.496,314.106 \\\"/>\\n<polyline clip-path=\\\"url(#clip460)\\\" style=\\\"stroke:#000000; stroke-linecap:round; stroke-linejoin:round; stroke-width:4; stroke-opacity:1; fill:none\\\" points=\\\"156.598,110.875 175.496,110.875 \\\"/>\\n<path clip-path=\\\"url(#clip460)\\\" d=\\\"M65.0198 1316.06 Q61.4087 1316.06 59.58 1319.62 Q57.7745 1323.17 57.7745 1330.3 Q57.7745 1337.4 59.58 1340.97 Q61.4087 1344.51 65.0198 1344.51 Q68.6541 1344.51 70.4596 1340.97 Q72.2883 1337.4 72.2883 1330.3 Q72.2883 1323.17 70.4596 1319.62 Q68.6541 1316.06 65.0198 1316.06 M65.0198 1312.36 Q70.83 1312.36 73.8855 1316.96 Q76.9642 1321.55 76.9642 1330.3 Q76.9642 1339.02 73.8855 1343.63 Q70.83 1348.21 65.0198 1348.21 Q59.2097 1348.21 56.131 1343.63 Q53.0754 1339.02 53.0754 1330.3 Q53.0754 1321.55 56.131 1316.96 Q59.2097 1312.36 65.0198 1312.36 Z\\\" fill=\\\"#000000\\\" fill-rule=\\\"nonzero\\\" fill-opacity=\\\"1\\\" /><path clip-path=\\\"url(#clip460)\\\" d=\\\"M85.1818 1341.66 L90.066 1341.66 L90.066 1347.54 L85.1818 1347.54 L85.1818 1341.66 Z\\\" fill=\\\"#000000\\\" fill-rule=\\\"nonzero\\\" fill-opacity=\\\"1\\\" /><path clip-path=\\\"url(#clip460)\\\" d=\\\"M104.279 1343.61 L120.598 1343.61 L120.598 1347.54 L98.6539 1347.54 L98.6539 1343.61 Q101.316 1340.85 105.899 1336.22 Q110.506 1331.57 111.686 1330.23 Q113.932 1327.7 114.811 1325.97 Q115.714 1324.21 115.714 1322.52 Q115.714 1319.76 113.77 1318.03 Q111.848 1316.29 108.746 1316.29 Q106.547 1316.29 104.094 1317.06 Q101.663 1317.82 98.8854 1319.37 L98.8854 1314.65 Q101.709 1313.51 104.163 1312.94 Q106.617 1312.36 108.654 1312.36 Q114.024 1312.36 117.219 1315.04 Q120.413 1317.73 120.413 1322.22 Q120.413 1324.35 119.603 1326.27 Q118.816 1328.17 116.709 1330.76 Q116.131 1331.43 113.029 1334.65 Q109.927 1337.84 104.279 1343.61 Z\\\" fill=\\\"#000000\\\" fill-rule=\\\"nonzero\\\" fill-opacity=\\\"1\\\" /><path clip-path=\\\"url(#clip460)\\\" d=\\\"M64.0708 1112.83 Q60.4597 1112.83 58.631 1116.39 Q56.8254 1119.94 56.8254 1127.07 Q56.8254 1134.17 58.631 1137.74 Q60.4597 1141.28 64.0708 1141.28 Q67.705 1141.28 69.5105 1137.74 Q71.3392 1134.17 71.3392 1127.07 Q71.3392 1119.94 69.5105 1116.39 Q67.705 1112.83 64.0708 1112.83 M64.0708 1109.13 Q69.8809 1109.13 72.9365 1113.73 Q76.0151 1118.32 76.0151 1127.07 Q76.0151 1135.79 72.9365 1140.4 Q69.8809 1144.98 64.0708 1144.98 Q58.2606 1144.98 55.1819 1140.4 Q52.1264 1135.79 52.1264 1127.07 Q52.1264 1118.32 55.1819 1113.73 Q58.2606 1109.13 64.0708 1109.13 Z\\\" fill=\\\"#000000\\\" fill-rule=\\\"nonzero\\\" fill-opacity=\\\"1\\\" /><path clip-path=\\\"url(#clip460)\\\" d=\\\"M84.2327 1138.43 L89.1169 1138.43 L89.1169 1144.31 L84.2327 1144.31 L84.2327 1138.43 Z\\\" fill=\\\"#000000\\\" fill-rule=\\\"nonzero\\\" fill-opacity=\\\"1\\\" /><path clip-path=\\\"url(#clip460)\\\" d=\\\"M113.469 1125.68 Q116.825 1126.39 118.7 1128.66 Q120.598 1130.93 120.598 1134.26 Q120.598 1139.38 117.08 1142.18 Q113.561 1144.98 107.08 1144.98 Q104.904 1144.98 102.589 1144.54 Q100.297 1144.13 97.8437 1143.27 L97.8437 1138.75 Q99.7882 1139.89 102.103 1140.47 Q104.418 1141.05 106.941 1141.05 Q111.339 1141.05 113.631 1139.31 Q115.945 1137.57 115.945 1134.26 Q115.945 1131.21 113.793 1129.5 Q111.663 1127.76 107.844 1127.76 L103.816 1127.76 L103.816 1123.92 L108.029 1123.92 Q111.478 1123.92 113.307 1122.55 Q115.135 1121.16 115.135 1118.57 Q115.135 1115.91 113.237 1114.5 Q111.362 1113.06 107.844 1113.06 Q105.922 1113.06 103.723 1113.48 Q101.524 1113.89 98.8854 1114.77 L98.8854 1110.61 Q101.547 1109.87 103.862 1109.5 Q106.2 1109.13 108.26 1109.13 Q113.584 1109.13 116.686 1111.56 Q119.788 1113.96 119.788 1118.08 Q119.788 1120.95 118.145 1122.94 Q116.501 1124.91 113.469 1125.68 Z\\\" fill=\\\"#000000\\\" fill-rule=\\\"nonzero\\\" fill-opacity=\\\"1\\\" /><path clip-path=\\\"url(#clip460)\\\" d=\\\"M62.9365 909.598 Q59.3254 909.598 57.4967 913.163 Q55.6912 916.704 55.6912 923.834 Q55.6912 930.94 57.4967 934.505 Q59.3254 938.047 62.9365 938.047 Q66.5707 938.047 68.3763 934.505 Q70.205 930.94 70.205 923.834 Q70.205 916.704 68.3763 913.163 Q66.5707 909.598 62.9365 909.598 M62.9365 905.894 Q68.7467 905.894 71.8022 910.501 Q74.8809 915.084 74.8809 923.834 Q74.8809 932.561 71.8022 937.167 Q68.7467 941.751 62.9365 941.751 Q57.1264 941.751 54.0477 937.167 Q50.9921 932.561 50.9921 923.834 Q50.9921 915.084 54.0477 910.501 Q57.1264 905.894 62.9365 905.894 Z\\\" fill=\\\"#000000\\\" fill-rule=\\\"nonzero\\\" fill-opacity=\\\"1\\\" /><path clip-path=\\\"url(#clip460)\\\" d=\\\"M83.0984 935.2 L87.9827 935.2 L87.9827 941.079 L83.0984 941.079 L83.0984 935.2 Z\\\" fill=\\\"#000000\\\" fill-rule=\\\"nonzero\\\" fill-opacity=\\\"1\\\" /><path clip-path=\\\"url(#clip460)\\\" d=\\\"M111.015 910.593 L99.2095 929.042 L111.015 929.042 L111.015 910.593 M109.788 906.519 L115.668 906.519 L115.668 929.042 L120.598 929.042 L120.598 932.931 L115.668 932.931 L115.668 941.079 L111.015 941.079 L111.015 932.931 L95.4132 932.931 L95.4132 928.417 L109.788 906.519 Z\\\" fill=\\\"#000000\\\" fill-rule=\\\"nonzero\\\" fill-opacity=\\\"1\\\" /><path clip-path=\\\"url(#clip460)\\\" d=\\\"M64.418 706.367 Q60.8069 706.367 58.9782 709.932 Q57.1726 713.473 57.1726 720.603 Q57.1726 727.709 58.9782 731.274 Q60.8069 734.816 64.418 734.816 Q68.0522 734.816 69.8578 731.274 Q71.6865 727.709 71.6865 720.603 Q71.6865 713.473 69.8578 709.932 Q68.0522 706.367 64.418 706.367 M64.418 702.663 Q70.2281 702.663 73.2837 707.27 Q76.3624 711.853 76.3624 720.603 Q76.3624 729.33 73.2837 733.936 Q70.2281 738.519 64.418 738.519 Q58.6078 738.519 55.5291 733.936 Q52.4736 729.33 52.4736 720.603 Q52.4736 711.853 55.5291 707.27 Q58.6078 702.663 64.418 702.663 Z\\\" fill=\\\"#000000\\\" fill-rule=\\\"nonzero\\\" fill-opacity=\\\"1\\\" /><path clip-path=\\\"url(#clip460)\\\" d=\\\"M84.5799 731.969 L89.4641 731.969 L89.4641 737.848 L84.5799 737.848 L84.5799 731.969 Z\\\" fill=\\\"#000000\\\" fill-rule=\\\"nonzero\\\" fill-opacity=\\\"1\\\" /><path clip-path=\\\"url(#clip460)\\\" d=\\\"M99.6956 703.288 L118.052 703.288 L118.052 707.223 L103.978 707.223 L103.978 715.696 Q104.996 715.348 106.015 715.186 Q107.033 715.001 108.052 715.001 Q113.839 715.001 117.219 718.172 Q120.598 721.344 120.598 726.76 Q120.598 732.339 117.126 735.441 Q113.654 738.519 107.334 738.519 Q105.159 738.519 102.89 738.149 Q100.645 737.779 98.2372 737.038 L98.2372 732.339 Q100.321 733.473 102.543 734.029 Q104.765 734.584 107.242 734.584 Q111.246 734.584 113.584 732.478 Q115.922 730.371 115.922 726.76 Q115.922 723.149 113.584 721.043 Q111.246 718.936 107.242 718.936 Q105.367 718.936 103.492 719.353 Q101.64 719.77 99.6956 720.649 L99.6956 703.288 Z\\\" fill=\\\"#000000\\\" fill-rule=\\\"nonzero\\\" fill-opacity=\\\"1\\\" /><path clip-path=\\\"url(#clip460)\\\" d=\\\"M63.2606 503.136 Q59.6495 503.136 57.8208 506.701 Q56.0152 510.242 56.0152 517.372 Q56.0152 524.478 57.8208 528.043 Q59.6495 531.585 63.2606 531.585 Q66.8948 531.585 68.7004 528.043 Q70.5291 524.478 70.5291 517.372 Q70.5291 510.242 68.7004 506.701 Q66.8948 503.136 63.2606 503.136 M63.2606 499.432 Q69.0707 499.432 72.1263 504.039 Q75.205 508.622 75.205 517.372 Q75.205 526.099 72.1263 530.705 Q69.0707 535.288 63.2606 535.288 Q57.4504 535.288 54.3717 530.705 Q51.3162 526.099 51.3162 517.372 Q51.3162 508.622 54.3717 504.039 Q57.4504 499.432 63.2606 499.432 Z\\\" fill=\\\"#000000\\\" fill-rule=\\\"nonzero\\\" fill-opacity=\\\"1\\\" /><path clip-path=\\\"url(#clip460)\\\" d=\\\"M83.4225 528.738 L88.3067 528.738 L88.3067 534.617 L83.4225 534.617 L83.4225 528.738 Z\\\" fill=\\\"#000000\\\" fill-rule=\\\"nonzero\\\" fill-opacity=\\\"1\\\" /><path clip-path=\\\"url(#clip460)\\\" d=\\\"M109.071 515.474 Q105.922 515.474 104.071 517.626 Q102.242 519.779 102.242 523.529 Q102.242 527.256 104.071 529.432 Q105.922 531.585 109.071 531.585 Q112.219 531.585 114.047 529.432 Q115.899 527.256 115.899 523.529 Q115.899 519.779 114.047 517.626 Q112.219 515.474 109.071 515.474 M118.353 500.821 L118.353 505.08 Q116.594 504.247 114.788 503.807 Q113.006 503.367 111.246 503.367 Q106.617 503.367 104.163 506.492 Q101.733 509.617 101.385 515.937 Q102.751 513.923 104.811 512.858 Q106.871 511.77 109.348 511.77 Q114.557 511.77 117.566 514.941 Q120.598 518.089 120.598 523.529 Q120.598 528.853 117.45 532.071 Q114.302 535.288 109.071 535.288 Q103.075 535.288 99.9039 530.705 Q96.7326 526.099 96.7326 517.372 Q96.7326 509.177 100.621 504.316 Q104.51 499.432 111.061 499.432 Q112.82 499.432 114.603 499.779 Q116.408 500.127 118.353 500.821 Z\\\" fill=\\\"#000000\\\" fill-rule=\\\"nonzero\\\" fill-opacity=\\\"1\\\" /><path clip-path=\\\"url(#clip460)\\\" d=\\\"M64.3254 299.905 Q60.7143 299.905 58.8856 303.47 Q57.0801 307.011 57.0801 314.141 Q57.0801 321.247 58.8856 324.812 Q60.7143 328.354 64.3254 328.354 Q67.9596 328.354 69.7652 324.812 Q71.5939 321.247 71.5939 314.141 Q71.5939 307.011 69.7652 303.47 Q67.9596 299.905 64.3254 299.905 M64.3254 296.201 Q70.1355 296.201 73.1911 300.808 Q76.2698 305.391 76.2698 314.141 Q76.2698 322.868 73.1911 327.474 Q70.1355 332.057 64.3254 332.057 Q58.5152 332.057 55.4365 327.474 Q52.381 322.868 52.381 314.141 Q52.381 305.391 55.4365 300.808 Q58.5152 296.201 64.3254 296.201 Z\\\" fill=\\\"#000000\\\" fill-rule=\\\"nonzero\\\" fill-opacity=\\\"1\\\" /><path clip-path=\\\"url(#clip460)\\\" d=\\\"M84.4873 325.506 L89.3715 325.506 L89.3715 331.386 L84.4873 331.386 L84.4873 325.506 Z\\\" fill=\\\"#000000\\\" fill-rule=\\\"nonzero\\\" fill-opacity=\\\"1\\\" /><path clip-path=\\\"url(#clip460)\\\" d=\\\"M98.3761 296.826 L120.598 296.826 L120.598 298.817 L108.052 331.386 L103.168 331.386 L114.973 300.761 L98.3761 300.761 L98.3761 296.826 Z\\\" fill=\\\"#000000\\\" fill-rule=\\\"nonzero\\\" fill-opacity=\\\"1\\\" /><path clip-path=\\\"url(#clip460)\\\" d=\\\"M63.5152 96.6737 Q59.9041 96.6737 58.0754 100.238 Q56.2699 103.78 56.2699 110.91 Q56.2699 118.016 58.0754 121.581 Q59.9041 125.123 63.5152 125.123 Q67.1494 125.123 68.955 121.581 Q70.7837 118.016 70.7837 110.91 Q70.7837 103.78 68.955 100.238 Q67.1494 96.6737 63.5152 96.6737 M63.5152 92.97 Q69.3254 92.97 72.3809 97.5765 Q75.4596 102.16 75.4596 110.91 Q75.4596 119.637 72.3809 124.243 Q69.3254 128.826 63.5152 128.826 Q57.7051 128.826 54.6264 124.243 Q51.5708 119.637 51.5708 110.91 Q51.5708 102.16 54.6264 97.5765 Q57.7051 92.97 63.5152 92.97 Z\\\" fill=\\\"#000000\\\" fill-rule=\\\"nonzero\\\" fill-opacity=\\\"1\\\" /><path clip-path=\\\"url(#clip460)\\\" d=\\\"M83.6771 122.275 L88.5614 122.275 L88.5614 128.155 L83.6771 128.155 L83.6771 122.275 Z\\\" fill=\\\"#000000\\\" fill-rule=\\\"nonzero\\\" fill-opacity=\\\"1\\\" /><path clip-path=\\\"url(#clip460)\\\" d=\\\"M108.746 111.743 Q105.413 111.743 103.492 113.525 Q101.594 115.308 101.594 118.433 Q101.594 121.558 103.492 123.34 Q105.413 125.123 108.746 125.123 Q112.08 125.123 114.001 123.34 Q115.922 121.535 115.922 118.433 Q115.922 115.308 114.001 113.525 Q112.103 111.743 108.746 111.743 M104.071 109.752 Q101.061 109.012 99.3715 106.951 Q97.7048 104.891 97.7048 101.928 Q97.7048 97.7848 100.645 95.3774 Q103.608 92.97 108.746 92.97 Q113.908 92.97 116.848 95.3774 Q119.788 97.7848 119.788 101.928 Q119.788 104.891 118.098 106.951 Q116.432 109.012 113.445 109.752 Q116.825 110.539 118.7 112.831 Q120.598 115.123 120.598 118.433 Q120.598 123.456 117.52 126.141 Q114.464 128.826 108.746 128.826 Q103.029 128.826 99.9502 126.141 Q96.8947 123.456 96.8947 118.433 Q96.8947 115.123 98.7928 112.831 Q100.691 110.539 104.071 109.752 M102.358 102.368 Q102.358 105.053 104.024 106.558 Q105.714 108.063 108.746 108.063 Q111.756 108.063 113.445 106.558 Q115.158 105.053 115.158 102.368 Q115.158 99.6829 113.445 98.1783 Q111.756 96.6737 108.746 96.6737 Q105.714 96.6737 104.024 98.1783 Q102.358 99.6829 102.358 102.368 Z\\\" fill=\\\"#000000\\\" fill-rule=\\\"nonzero\\\" fill-opacity=\\\"1\\\" /><polyline clip-path=\\\"url(#clip462)\\\" style=\\\"stroke:#009af9; stroke-linecap:round; stroke-linejoin:round; stroke-width:4; stroke-opacity:1; fill:none\\\" points=\\\"218.754,1400.32 448.959,1445.72 679.164,221.976 909.369,87.9763 1139.57,135.918 1369.78,1133.47 1599.98,746.592 1830.19,288.528 2060.4,1266.04 2290.6,680.46 \\\"/>\\n<path clip-path=\\\"url(#clip460)\\\" d=\\\"M2007.5 198.898 L2279.55 198.898 L2279.55 95.2176 L2007.5 95.2176  Z\\\" fill=\\\"#ffffff\\\" fill-rule=\\\"evenodd\\\" fill-opacity=\\\"1\\\"/>\\n<polyline clip-path=\\\"url(#clip460)\\\" style=\\\"stroke:#000000; stroke-linecap:round; stroke-linejoin:round; stroke-width:4; stroke-opacity:1; fill:none\\\" points=\\\"2007.5,198.898 2279.55,198.898 2279.55,95.2176 2007.5,95.2176 2007.5,198.898 \\\"/>\\n<polyline clip-path=\\\"url(#clip460)\\\" style=\\\"stroke:#009af9; stroke-linecap:round; stroke-linejoin:round; stroke-width:4; stroke-opacity:1; fill:none\\\" points=\\\"2031.91,147.058 2178.32,147.058 \\\"/>\\n<path clip-path=\\\"url(#clip460)\\\" d=\\\"M2216.56 166.745 Q2214.76 171.375 2213.04 172.787 Q2211.33 174.199 2208.46 174.199 L2205.06 174.199 L2205.06 170.634 L2207.56 170.634 Q2209.32 170.634 2210.29 169.8 Q2211.26 168.967 2212.44 165.865 L2213.2 163.921 L2202.72 138.412 L2207.23 138.412 L2215.33 158.689 L2223.44 138.412 L2227.95 138.412 L2216.56 166.745 Z\\\" fill=\\\"#000000\\\" fill-rule=\\\"nonzero\\\" fill-opacity=\\\"1\\\" /><path clip-path=\\\"url(#clip460)\\\" d=\\\"M2235.24 160.402 L2242.88 160.402 L2242.88 134.037 L2234.57 135.703 L2234.57 131.444 L2242.83 129.778 L2247.51 129.778 L2247.51 160.402 L2255.15 160.402 L2255.15 164.338 L2235.24 164.338 L2235.24 160.402 Z\\\" fill=\\\"#000000\\\" fill-rule=\\\"nonzero\\\" fill-opacity=\\\"1\\\" /></svg>\\n\")"
     ]
    }
   ],
   "source": [
    "%julia\n",
    "using Plots\n",
    "plot(rand(10))\n",
    "plot(rand(10)) "
   ]
  },
  {
   "cell_type": "code",
   "execution_count": null,
   "id": "f299ecb6-9e2c-42b0-8f32-6dbff289a8d0",
   "metadata": {},
   "outputs": [],
   "source": []
  }
 ],
 "metadata": {
  "kernelspec": {
   "display_name": "JuliaPythonKernel",
   "language": "python",
   "name": "semester-project-jupyter-kernel"
  },
  "language_info": {
   "codemirror_mode": {
    "name": "jupython",
    "version": 3
   },
   "file_extension": ".ipynb",
   "mimetype": "text/x-python",
   "name": "julia and python",
   "pygments_lexer": "python3",
   "version": "VERSION"
  }
 },
 "nbformat": 4,
 "nbformat_minor": 5
}
