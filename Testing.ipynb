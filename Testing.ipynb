{
 "cells": [
  {
   "cell_type": "code",
   "execution_count": 1,
   "id": "f92927c3-f4bc-4b26-bb9d-05a0e8c727d4",
   "metadata": {},
   "outputs": [
    {
     "name": "stdout",
     "output_type": "stream",
     "text": [
      "Hello from python!\n",
      "math,  4\n"
     ]
    }
   ],
   "source": [
    "%python\n",
    "print(\"Hello from python!\")\n",
    "x= 5\n",
    "print(\"math, \",9-x)"
   ]
  },
  {
   "cell_type": "code",
   "execution_count": 2,
   "id": "be2d09e9-91eb-4e05-956f-30e69e3049c8",
   "metadata": {},
   "outputs": [
    {
     "name": "stdout",
     "output_type": "stream",
     "text": [
      "Hello from Julia\n"
     ]
    }
   ],
   "source": [
    "%julia\n",
    "println(\"Hello from Julia\")"
   ]
  },
  {
   "cell_type": "code",
   "execution_count": 3,
   "id": "f94d54db-16c8-4155-a953-bb3d0e869846",
   "metadata": {
    "scrolled": true
   },
   "outputs": [
    {
     "name": "stdout",
     "output_type": "stream",
     "text": [
      "Hello, Julia User\n",
      "math, 4\n"
     ]
    }
   ],
   "source": [
    "%julia\n",
    "name = \"Julia User\"\n",
    "println(\"Hello, \", name)\n",
    "x = 5\n",
    "println(\"math, \",9-x)"
   ]
  },
  {
   "cell_type": "code",
   "execution_count": 4,
   "id": "85f08588-64ce-414b-a1ba-63a9e85b2864",
   "metadata": {},
   "outputs": [
    {
     "name": "stdin",
     "output_type": "stream",
     "text": [
      "please enter your first name Samuel\n",
      "please enter your last name Talhami\n"
     ]
    },
    {
     "name": "stdout",
     "output_type": "stream",
     "text": [
      "Hello :  Samuel   Talhami\n"
     ]
    }
   ],
   "source": [
    "name = input(\"please enter your first name\")\n",
    "last_name = input (\"please enter your last name\")\n",
    "print(\"Hello : \",name,\" \",last_name)"
   ]
  },
  {
   "cell_type": "code",
   "execution_count": 7,
   "id": "6889ef3c-068a-4f4b-9196-836ec8fdde63",
   "metadata": {},
   "outputs": [
    {
     "name": "stdin",
     "output_type": "stream",
     "text": [
      " Test\n"
     ]
    }
   ],
   "source": [
    "%julia\n",
    "x = readline()"
   ]
  },
  {
   "cell_type": "code",
   "execution_count": 8,
   "id": "6b6bef38-fa0d-4fa8-9e02-3023569cb758",
   "metadata": {},
   "outputs": [
    {
     "name": "stdin",
     "output_type": "stream",
     "text": [
      " Joke\n"
     ]
    },
    {
     "name": "stdout",
     "output_type": "stream",
     "text": [
      "Joke\n",
      "\n"
     ]
    }
   ],
   "source": [
    "%julia\n",
    "x = readline()\n",
    "println(x)\n"
   ]
  },
  {
   "cell_type": "code",
   "execution_count": 9,
   "id": "0834a722-20f4-4210-abd0-418ee2b2c3d5",
   "metadata": {},
   "outputs": [
    {
     "name": "stdout",
     "output_type": "stream",
     "text": [
      "Enter your name\n"
     ]
    },
    {
     "name": "stdin",
     "output_type": "stream",
     "text": [
      " Dan\n"
     ]
    },
    {
     "name": "stdout",
     "output_type": "stream",
     "text": [
      "Your name is :Dan\n",
      "\n"
     ]
    }
   ],
   "source": [
    "%julia\n",
    "println(\"Enter your name\")\n",
    "name = readline()\n",
    "println(\"Your name is :\",name)"
   ]
  },
  {
   "cell_type": "code",
   "execution_count": 10,
   "id": "4f9aabd0-dcbd-478c-b0af-7f2472c8b730",
   "metadata": {},
   "outputs": [
    {
     "name": "stdout",
     "output_type": "stream",
     "text": [
      "Testing input taking via readline.\n",
      "Please enter a value: "
     ]
    },
    {
     "name": "stdin",
     "output_type": "stream",
     "text": [
      " 42\n"
     ]
    },
    {
     "name": "stdout",
     "output_type": "stream",
     "text": [
      "You entered: 42\n",
      "\n"
     ]
    }
   ],
   "source": [
    "%julia\n",
    "function test_input()\n",
    "    println(\"Testing input taking via readline.\")\n",
    "    print(\"Please enter a value: \")\n",
    "    user_value = readline()\n",
    "    println(\"You entered: \", user_value)\n",
    "    return user_value\n",
    "end\n",
    "test_input()"
   ]
  },
  {
   "cell_type": "code",
   "execution_count": 12,
   "id": "5a1edd74-0b0c-42bc-9485-5b9b2deb8ae4",
   "metadata": {},
   "outputs": [],
   "source": [
    "%julia\n",
    "while true\n",
    "    sleep(0.001)\n",
    "end"
   ]
  },
  {
   "cell_type": "code",
   "execution_count": 10,
   "id": "b646f810-c24d-4742-b9b6-9256e9ad2cec",
   "metadata": {},
   "outputs": [],
   "source": [
    "while True:\n",
    "    x=6"
   ]
  },
  {
   "cell_type": "code",
   "execution_count": 1,
   "id": "cba73a62-2419-436a-bbca-c0d4df9bccd1",
   "metadata": {},
   "outputs": [
    {
     "data": {
      "text/plain": [
       "'Hello, custom display!'"
      ]
     },
     "metadata": {},
     "output_type": "display_data"
    },
    {
     "data": {
      "text/html": [
       "<h1 style='color: blue;'>This color makes my eyes hurt!</h1>"
      ]
     },
     "metadata": {},
     "output_type": "display_data"
    }
   ],
   "source": [
    "display(\"Hello, custom display!\")\n",
    "class HTMLDisplay:\n",
    "    def _repr_html_(self):\n",
    "        return \"<h1 style='color: blue;'>This color makes my eyes hurt!</h1>\"\n",
    "\n",
    "display(HTMLDisplay())"
   ]
  },
  {
   "cell_type": "code",
   "execution_count": 1,
   "id": "be39c727-ca17-4ce0-9875-4df1d3cdd8bb",
   "metadata": {},
   "outputs": [
    {
     "data": {
      "image/png": "[encoded data removed]"
     },
     "metadata": {},
     "output_type": "display_data"
    }
   ],
   "source": [
    "import base64\n",
    "class DummyPNG:\n",
    "    def _repr_png_(self):\n",
    "        # A base64-encoded 1x1 yllw pixel PNG\n",
    "        png_base64 = \"iVBORw0KGgoAAAANSUhEUgAAAAEAAAABCAYAAAAfFcSJAAAADUlEQVR42mP8/5/hPwAIAgL/4d1j8wAAAABJRU5ErkJggg==\"\n",
    "        return base64.b64decode(png_base64)\n",
    "\n",
    "display(DummyPNG())"
   ]
  },
  {
   "cell_type": "code",
   "execution_count": 2,
   "id": "f2d14267-e5a6-4e9f-92f2-e075c7e9a785",
   "metadata": {},
   "outputs": [
    {
     "data": {
      "text/html": [
       "<img src=\"https://i.postimg.cc/sxQPjZ8f/e826dfea-45f4-41c7-8a76-297a5c2f8cfd-MConverter-eu.png\" alt=\"Image from URL\" style=\"max-width:100%;\">"
      ]
     },
     "metadata": {},
     "output_type": "display_data"
    }
   ],
   "source": [
    "class LinkImage:\n",
    "    def __init__(self, url):\n",
    "        self.url = url\n",
    "    def _repr_html_(self):\n",
    "        return f'<img src=\"{self.url}\" alt=\"Image from URL\" style=\"max-width:100%;\">'\n",
    "# picture of my cat\n",
    "display(LinkImage(\"https://i.postimg.cc/sxQPjZ8f/e826dfea-45f4-41c7-8a76-297a5c2f8cfd-MConverter-eu.png\"))"
   ]
  },
  {
   "cell_type": "code",
   "execution_count": 12,
   "id": "a10ad47c-3734-4e7e-ba65-f6c46396fc68",
   "metadata": {},
   "outputs": [],
   "source": [
    "import matplotlib.pyplot as plt\n",
    "plt.plot([1,2,3,4])\n",
    "plt.show()  \n"
   ]
  },
  {
   "cell_type": "code",
   "execution_count": 6,
   "id": "202d3226-86ab-4cc4-8607-55d0457fc0e9",
   "metadata": {},
   "outputs": [
    {
     "data": {
      "text/html": [
       "<h1 style='color: red;'>Look it works finally! Eureka!</h1>"
      ]
     },
     "metadata": {},
     "output_type": "display_data"
    },
    {
     "data": {
      "text/html": [
       "lets try muliple"
      ]
     },
     "metadata": {},
     "output_type": "display_data"
    },
    {
     "name": "stdout",
     "output_type": "stream",
     "text": [
      "sure\n"
     ]
    }
   ],
   "source": [
    "%julia\n",
    "my_text = \"<h1 style='color: red;'>Look it works finally! Eureka!</h1>\"\n",
    "display(\"text/html\",my_text)\n",
    "display(\"text/html\",\"lets try muliple\")\n",
    "println(\"sure\")\n"
   ]
  },
  {
   "cell_type": "code",
   "execution_count": null,
   "id": "1bd960d9-76b5-4010-929b-97098cda2a4d",
   "metadata": {},
   "outputs": [],
   "source": []
  }
 ],
 "metadata": {
  "kernelspec": {
   "display_name": "JuliaPythonKernel",
   "language": "python",
   "name": "semester-project-jupyter-kernel"
  },
  "language_info": {
   "codemirror_mode": {
    "name": "jupython",
    "version": 3
   },
   "file_extension": ".ipynb",
   "mimetype": "text/x-python",
   "name": "julia and python",
   "pygments_lexer": "python3",
   "version": "VERSION"
  }
 },
 "nbformat": 4,
 "nbformat_minor": 5
}
